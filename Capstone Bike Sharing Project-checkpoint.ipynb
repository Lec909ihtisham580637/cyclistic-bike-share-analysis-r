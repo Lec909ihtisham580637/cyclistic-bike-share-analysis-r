{
 "cells": [
  {
   "cell_type": "markdown",
   "id": "2f694b17-ca1d-492a-a698-0c480d45d25b",
   "metadata": {},
   "source": [
    "# Introduction\r\n",
    "\r\n",
    "Cyclistic is a bike-share company operating in Chicago, with a fleet of over 5,800 bikes and more than 600 docking stations across the city. The company offers flexible pricing options, allowing users to choose between single rides, day passes, or annual memberships. Those riders who use one-time or day passes are known as casual riders, while those with yearly subscriptions are called members.\r\n",
    "\r\n",
    "I am working as a junior data analyst at Cyclistic and I’ve been given the opportunity to explore how these two types of users—casual and members—use the service differently. The main aim of the project is to help the marketing team find smart and effective ways to convert more casual riders into annual members. Because the company already has observed, after the reports of the data analytics team, that members are more valuable in the long run, understanding what makes them different from casual riders is key to supporting Cyclistic’s growth.\r\n",
    "\r\n",
    "I will solve this case study by using six phases of data analysis:  \r\n",
    "1. Ask  \r\n",
    "2. Prepare  \r\n",
    "3. Process  \r\n",
    "4. Analyze  \r\n",
    "5. Share  \r\n",
    "6. Act  \r\n",
    "\r\n",
    "These are the phases I have learned in the Google Data Analytics Professional Certificate. By using that knowledge, I will make a data-driven decision that will support business decisions aligned with Cyclistic’s growth ob\n",
    "tives.\r\n",
    "\r\n",
    "---\r\n",
    "\r\n",
    "## 1. Ask Phase\r\n",
    "\r\n",
    "In this first step, I will clearly identify the business problem and goals, as well as understand who’s involved in the project.\r\n",
    "\r\n",
    "### Business Task\r\n",
    "Cyclistic wants more people to become annual members by convincing casual riders to switch. To do that, the company needs to learn how members and casual riders use the bikes in different ways when using the bikes. By analyzing these differences, we can help the marketing team create campaigns that match what casual riders want and how they usually behave.\r\n",
    "\r\n",
    "### Stakeholders\r\n",
    "- **Lily Moreno** – Head of the Marketing Department, overseeing this project  \r\n",
    "- **Cyclistic Marketing Analytics Team** – The group I’m part of, responsible for analyzing and interpreting data  \r\n",
    "- **Cyclistic Executive Team** – Company leaders who will review our insights and decide whether to implement the suggested marketing strategies  \r\n",
    "\r\n",
    "### Key Questions to Explore\r\n",
    "- **How do casual riders and annual members use Cyclistic bikes differently?**  \r\n",
    "- **What trends in the data might show why some casual riders would want to become members?**  \r\n",
    "- **How can Cyclistic use this information to make strong onlne marketing campaigns?**\r\n",
    "\r\n",
    "---\r\n",
    "\r\n",
    "## 2. Prepare Phase\r\n",
    "\r\n",
    "I extracted the relevant data which I will use from [here](https://divvy-tripdata.s3.amazonaws.com/index.html) with a helper dataset downloaded from [here](https://data.cityofchicago.org/Transportation/Divvy-Bicycle-Stations/bbyy-e7gq/about_data) that will be used to remove any dirty data in our primary dataset. This data is made available by Motivate International Inc. under this [license](https://divvybikes.com/data-license-agreement).\r\n",
    "\r\n",
    "> Note: Cyclistic is a fictional entity and Divvy's open data is used for the purpose of this case study.\r\n",
    "\r\n",
    "Now I will use the concept of **ROCCC** to check whether the data I am going to use is good data or bad. For effective results, our data must be **ROCCC**:\r\n",
    "\r\n",
    "- **R (Reliable):** The data shows actual bike-share activity over 12 months in Chicago, so it is reliable.  \r\n",
    "- **O (Original):** The data comes straight from the company itself that runs the bike-share, making it original and first-party.  \r\n",
    "- **C (Comprehensive):** It includes all the details required to solve our problem.  \r\n",
    "- **C (Current):** The data goes up to December 2021, which is recent enough to provide useful and relevant insights.  \r\n",
    "- **C (Cited):** The data is cited and available under a Data License Agreement.\r\n",
    "\r\n",
    "---\r\n",
    "\r\n",
    "### Data Ethics\r\n",
    "\r\n",
    "#### Security  \r\n",
    "The data is stored in a cloud-based system managed exclusively by trusted staff from Motivate. It is protected by a globally recognized cloud provider, ensuring strong data protection.\r\n",
    "\r\n",
    "#### Openness  \r\n",
    "Cyclistic’s bike ride data is openly available to the public without any restrictions.\r\n",
    "\r\n",
    "#### Privacy  \r\n",
    "Personal information has been removed from the dataset. However, we can still extract effective insights from it.\r\n",
    "\r\n",
    "#### Licensing  \r\n",
    "Use of the dataset is governed by [specific licensing terms](https://divvybikes.com/data-license-agreement), which must be followed.\r\n",
    "\r\n",
    "#### Credibility  \r\n",
    "The dataset is provided by Motivate International Inc., a reliable source. There is no indication of data manipulation, and the information appears to be factually accurate.\r\n",
    "\r\n",
    "#### Limitations  \r\n",
    "While reviewing the raw data files, I noticed that some entries, especially those involving electric bike rides, lack key station details such as `start_station_name`, `end_station_id`, and `end_station_name`. These will not be used in the analysis, which may slightly affect results.\r\n",
    "\r\n",
    "#### Consistency and Reliability  \r\n",
    "Small errors are expected because the data is spread over time. But due to the structure of the dataset, the overall data remains reliable and accurate. These effects do not compromise its analytical integrity.\r\n",
    "\r\n",
    "#### Objective  \r\n",
    "The purpose of this data is to find patterns that show how members and casual users use Cyclistc's bikes differently. The findings aim to inform business decisions.\r\n",
    "\r\n",
    "---\r\n",
    "\r\n",
    "## 3. Process Phase\r\n",
    "\r\n",
    "In this phase, I will clean the data by removing any errors. I have already downloaded 12 datasets (one for each month) to my computer's desktop. I observed in Excel that if I combine these datasets row-wise into a single large dataset, it would contain over 9 million rows. Due to its size, analyzing this data in Excel is difficult.\r\n",
    "\r\n",
    "Therefore, I will use R programming for data cleaning. R is my favorite tool because it allows me to extract a lot of insights from data with just a little code.\r\n",
    "\r\n",
    "For the upcoming analysispcoming analysis, I will install and load some important packages in the R environment. some important packages in the R environment.es.ges.uthorization.ip types. types.\r\n",
    "\n",
    "\n",
    "\n",
    "\n",
    "\n"
   ]
  },
  {
   "cell_type": "markdown",
   "id": "899ca1fe-891a-4ade-aaa5-9e6854bb3435",
   "metadata": {},
   "source": [
    "#Installing and Loading of Packages and Function which are very important for our coming data analysis\n",
    "install.packages(\"tidyverse\")\n",
    "library(tidyverse)\n",
    "library(dplyr)\n",
    "library(readr)\n",
    "install.packages(\"skimr\")\n",
    "library(skimr)\n",
    "library(lubridate)"
   ]
  },
  {
   "cell_type": "markdown",
   "id": "ce6655b4-0f41-4fd0-855b-157c08249fe8",
   "metadata": {},
   "source": [
    "## Importing Datasets\r\n",
    "In this code i will import all datasets from computer desktop to jupyter notebook"
   ]
  },
  {
   "cell_type": "code",
   "execution_count": 2,
   "id": "6d4370a8-5e0c-4b5b-867a-bcb9726b58b4",
   "metadata": {},
   "outputs": [
    {
     "name": "stderr",
     "output_type": "stream",
     "text": [
      "\u001b[1mRows: \u001b[22m\u001b[34m96834\u001b[39m \u001b[1mColumns: \u001b[22m\u001b[34m13\u001b[39m\n",
      "\u001b[36m──\u001b[39m \u001b[1mColumn specification\u001b[22m \u001b[36m────────────────────────────────────────────────────────────────────────────────────────────────\u001b[39m\n",
      "\u001b[1mDelimiter:\u001b[22m \",\"\n",
      "\u001b[31mchr\u001b[39m  (7): ride_id, rideable_type, start_station_name, start_station_id, end_...\n",
      "\u001b[32mdbl\u001b[39m  (4): start_lat, start_lng, end_lat, end_lng\n",
      "\u001b[34mdttm\u001b[39m (2): started_at, ended_at\n",
      "\n",
      "\u001b[36mℹ\u001b[39m Use `spec()` to retrieve the full column specification for this data.\n",
      "\u001b[36mℹ\u001b[39m Specify the column types or set `show_col_types = FALSE` to quiet this message.\n",
      "\u001b[1mRows: \u001b[22m\u001b[34m49622\u001b[39m \u001b[1mColumns: \u001b[22m\u001b[34m13\u001b[39m\n",
      "\u001b[36m──\u001b[39m \u001b[1mColumn specification\u001b[22m \u001b[36m────────────────────────────────────────────────────────────────────────────────────────────────\u001b[39m\n",
      "\u001b[1mDelimiter:\u001b[22m \",\"\n",
      "\u001b[31mchr\u001b[39m  (7): ride_id, rideable_type, start_station_name, start_station_id, end_...\n",
      "\u001b[32mdbl\u001b[39m  (4): start_lat, start_lng, end_lat, end_lng\n",
      "\u001b[34mdttm\u001b[39m (2): started_at, ended_at\n",
      "\n",
      "\u001b[36mℹ\u001b[39m Use `spec()` to retrieve the full column specification for this data.\n",
      "\u001b[36mℹ\u001b[39m Specify the column types or set `show_col_types = FALSE` to quiet this message.\n",
      "\u001b[1mRows: \u001b[22m\u001b[34m228496\u001b[39m \u001b[1mColumns: \u001b[22m\u001b[34m13\u001b[39m\n",
      "\u001b[36m──\u001b[39m \u001b[1mColumn specification\u001b[22m \u001b[36m────────────────────────────────────────────────────────────────────────────────────────────────\u001b[39m\n",
      "\u001b[1mDelimiter:\u001b[22m \",\"\n",
      "\u001b[31mchr\u001b[39m  (7): ride_id, rideable_type, start_station_name, start_station_id, end_...\n",
      "\u001b[32mdbl\u001b[39m  (4): start_lat, start_lng, end_lat, end_lng\n",
      "\u001b[34mdttm\u001b[39m (2): started_at, ended_at\n",
      "\n",
      "\u001b[36mℹ\u001b[39m Use `spec()` to retrieve the full column specification for this data.\n",
      "\u001b[36mℹ\u001b[39m Specify the column types or set `show_col_types = FALSE` to quiet this message.\n",
      "\u001b[1mRows: \u001b[22m\u001b[34m337230\u001b[39m \u001b[1mColumns: \u001b[22m\u001b[34m13\u001b[39m\n",
      "\u001b[36m──\u001b[39m \u001b[1mColumn specification\u001b[22m \u001b[36m────────────────────────────────────────────────────────────────────────────────────────────────\u001b[39m\n",
      "\u001b[1mDelimiter:\u001b[22m \",\"\n",
      "\u001b[31mchr\u001b[39m  (7): ride_id, rideable_type, start_station_name, start_station_id, end_...\n",
      "\u001b[32mdbl\u001b[39m  (4): start_lat, start_lng, end_lat, end_lng\n",
      "\u001b[34mdttm\u001b[39m (2): started_at, ended_at\n",
      "\n",
      "\u001b[36mℹ\u001b[39m Use `spec()` to retrieve the full column specification for this data.\n",
      "\u001b[36mℹ\u001b[39m Specify the column types or set `show_col_types = FALSE` to quiet this message.\n",
      "\u001b[1mRows: \u001b[22m\u001b[34m531633\u001b[39m \u001b[1mColumns: \u001b[22m\u001b[34m13\u001b[39m\n",
      "\u001b[36m──\u001b[39m \u001b[1mColumn specification\u001b[22m \u001b[36m────────────────────────────────────────────────────────────────────────────────────────────────\u001b[39m\n",
      "\u001b[1mDelimiter:\u001b[22m \",\"\n",
      "\u001b[31mchr\u001b[39m  (7): ride_id, rideable_type, start_station_name, start_station_id, end_...\n",
      "\u001b[32mdbl\u001b[39m  (4): start_lat, start_lng, end_lat, end_lng\n",
      "\u001b[34mdttm\u001b[39m (2): started_at, ended_at\n",
      "\n",
      "\u001b[36mℹ\u001b[39m Use `spec()` to retrieve the full column specification for this data.\n",
      "\u001b[36mℹ\u001b[39m Specify the column types or set `show_col_types = FALSE` to quiet this message.\n",
      "\u001b[1mRows: \u001b[22m\u001b[34m729595\u001b[39m \u001b[1mColumns: \u001b[22m\u001b[34m13\u001b[39m\n",
      "\u001b[36m──\u001b[39m \u001b[1mColumn specification\u001b[22m \u001b[36m────────────────────────────────────────────────────────────────────────────────────────────────\u001b[39m\n",
      "\u001b[1mDelimiter:\u001b[22m \",\"\n",
      "\u001b[31mchr\u001b[39m  (7): ride_id, rideable_type, start_station_name, start_station_id, end_...\n",
      "\u001b[32mdbl\u001b[39m  (4): start_lat, start_lng, end_lat, end_lng\n",
      "\u001b[34mdttm\u001b[39m (2): started_at, ended_at\n",
      "\n",
      "\u001b[36mℹ\u001b[39m Use `spec()` to retrieve the full column specification for this data.\n",
      "\u001b[36mℹ\u001b[39m Specify the column types or set `show_col_types = FALSE` to quiet this message.\n",
      "\u001b[1mRows: \u001b[22m\u001b[34m822410\u001b[39m \u001b[1mColumns: \u001b[22m\u001b[34m13\u001b[39m\n",
      "\u001b[36m──\u001b[39m \u001b[1mColumn specification\u001b[22m \u001b[36m────────────────────────────────────────────────────────────────────────────────────────────────\u001b[39m\n",
      "\u001b[1mDelimiter:\u001b[22m \",\"\n",
      "\u001b[31mchr\u001b[39m  (7): ride_id, rideable_type, start_station_name, start_station_id, end_...\n",
      "\u001b[32mdbl\u001b[39m  (4): start_lat, start_lng, end_lat, end_lng\n",
      "\u001b[34mdttm\u001b[39m (2): started_at, ended_at\n",
      "\n",
      "\u001b[36mℹ\u001b[39m Use `spec()` to retrieve the full column specification for this data.\n",
      "\u001b[36mℹ\u001b[39m Specify the column types or set `show_col_types = FALSE` to quiet this message.\n",
      "\u001b[1mRows: \u001b[22m\u001b[34m804352\u001b[39m \u001b[1mColumns: \u001b[22m\u001b[34m13\u001b[39m\n",
      "\u001b[36m──\u001b[39m \u001b[1mColumn specification\u001b[22m \u001b[36m────────────────────────────────────────────────────────────────────────────────────────────────\u001b[39m\n",
      "\u001b[1mDelimiter:\u001b[22m \",\"\n",
      "\u001b[31mchr\u001b[39m  (7): ride_id, rideable_type, start_station_name, start_station_id, end_...\n",
      "\u001b[32mdbl\u001b[39m  (4): start_lat, start_lng, end_lat, end_lng\n",
      "\u001b[34mdttm\u001b[39m (2): started_at, ended_at\n",
      "\n",
      "\u001b[36mℹ\u001b[39m Use `spec()` to retrieve the full column specification for this data.\n",
      "\u001b[36mℹ\u001b[39m Specify the column types or set `show_col_types = FALSE` to quiet this message.\n",
      "\u001b[1mRows: \u001b[22m\u001b[34m756147\u001b[39m \u001b[1mColumns: \u001b[22m\u001b[34m13\u001b[39m\n",
      "\u001b[36m──\u001b[39m \u001b[1mColumn specification\u001b[22m \u001b[36m────────────────────────────────────────────────────────────────────────────────────────────────\u001b[39m\n",
      "\u001b[1mDelimiter:\u001b[22m \",\"\n",
      "\u001b[31mchr\u001b[39m  (7): ride_id, rideable_type, start_station_name, start_station_id, end_...\n",
      "\u001b[32mdbl\u001b[39m  (4): start_lat, start_lng, end_lat, end_lng\n",
      "\u001b[34mdttm\u001b[39m (2): started_at, ended_at\n",
      "\n",
      "\u001b[36mℹ\u001b[39m Use `spec()` to retrieve the full column specification for this data.\n",
      "\u001b[36mℹ\u001b[39m Specify the column types or set `show_col_types = FALSE` to quiet this message.\n",
      "\u001b[1mRows: \u001b[22m\u001b[34m631226\u001b[39m \u001b[1mColumns: \u001b[22m\u001b[34m13\u001b[39m\n",
      "\u001b[36m──\u001b[39m \u001b[1mColumn specification\u001b[22m \u001b[36m────────────────────────────────────────────────────────────────────────────────────────────────\u001b[39m\n",
      "\u001b[1mDelimiter:\u001b[22m \",\"\n",
      "\u001b[31mchr\u001b[39m  (7): ride_id, rideable_type, start_station_name, start_station_id, end_...\n",
      "\u001b[32mdbl\u001b[39m  (4): start_lat, start_lng, end_lat, end_lng\n",
      "\u001b[34mdttm\u001b[39m (2): started_at, ended_at\n",
      "\n",
      "\u001b[36mℹ\u001b[39m Use `spec()` to retrieve the full column specification for this data.\n",
      "\u001b[36mℹ\u001b[39m Specify the column types or set `show_col_types = FALSE` to quiet this message.\n",
      "\u001b[1mRows: \u001b[22m\u001b[34m359978\u001b[39m \u001b[1mColumns: \u001b[22m\u001b[34m13\u001b[39m\n",
      "\u001b[36m──\u001b[39m \u001b[1mColumn specification\u001b[22m \u001b[36m────────────────────────────────────────────────────────────────────────────────────────────────\u001b[39m\n",
      "\u001b[1mDelimiter:\u001b[22m \",\"\n",
      "\u001b[31mchr\u001b[39m  (7): ride_id, rideable_type, start_station_name, start_station_id, end_...\n",
      "\u001b[32mdbl\u001b[39m  (4): start_lat, start_lng, end_lat, end_lng\n",
      "\u001b[34mdttm\u001b[39m (2): started_at, ended_at\n",
      "\n",
      "\u001b[36mℹ\u001b[39m Use `spec()` to retrieve the full column specification for this data.\n",
      "\u001b[36mℹ\u001b[39m Specify the column types or set `show_col_types = FALSE` to quiet this message.\n",
      "\u001b[1mRows: \u001b[22m\u001b[34m247540\u001b[39m \u001b[1mColumns: \u001b[22m\u001b[34m13\u001b[39m\n",
      "\u001b[36m──\u001b[39m \u001b[1mColumn specification\u001b[22m \u001b[36m────────────────────────────────────────────────────────────────────────────────────────────────\u001b[39m\n",
      "\u001b[1mDelimiter:\u001b[22m \",\"\n",
      "\u001b[31mchr\u001b[39m  (7): ride_id, rideable_type, start_station_name, start_station_id, end_...\n",
      "\u001b[32mdbl\u001b[39m  (4): start_lat, start_lng, end_lat, end_lng\n",
      "\u001b[34mdttm\u001b[39m (2): started_at, ended_at\n",
      "\n",
      "\u001b[36mℹ\u001b[39m Use `spec()` to retrieve the full column specification for this data.\n",
      "\u001b[36mℹ\u001b[39m Specify the column types or set `show_col_types = FALSE` to quiet this message.\n"
     ]
    }
   ],
   "source": [
    "#importing data from desktop which i already downloaded from kaggle\n",
    "data_01<-read_csv(\"C:/Users/TOSHIBA/Desktop/Bike_Share_ Data/202101-divvy-tripdata.csv\")\n",
    "data_02<-read_csv(\"C:/Users/TOSHIBA/Desktop/Bike_Share_ Data/202102-divvy-tripdata.csv\")\n",
    "data_03<-read_csv(\"C:/Users/TOSHIBA/Desktop/Bike_Share_ Data/202103-divvy-tripdata.csv\")\n",
    "data_04<-read_csv(\"C:/Users/TOSHIBA/Desktop/Bike_Share_ Data/202104-divvy-tripdata.csv\")\n",
    "data_05<-read_csv(\"C:/Users/TOSHIBA/Desktop/Bike_Share_ Data/202105-divvy-tripdata.csv\")\n",
    "data_06<-read_csv(\"C:/Users/TOSHIBA/Desktop/Bike_Share_ Data/202106-divvy-tripdata.csv\")\n",
    "data_07<-read_csv(\"C:/Users/TOSHIBA/Desktop/Bike_Share_ Data/202107-divvy-tripdata.csv\")\n",
    "data_08<-read_csv(\"C:/Users/TOSHIBA/Desktop/Bike_Share_ Data/202108-divvy-tripdata.csv\")\n",
    "data_09<-read_csv(\"C:/Users/TOSHIBA/Desktop/Bike_Share_ Data/202109-divvy-tripdata.csv\")\n",
    "data_10<-read_csv(\"C:/Users/TOSHIBA/Desktop/Bike_Share_ Data/202110-divvy-tripdata.csv\")\n",
    "data_11<-read_csv(\"C:/Users/TOSHIBA/Desktop/Bike_Share_ Data/202111-divvy-tripdata.csv\")\n",
    "data_12<-read_csv(\"C:/Users/TOSHIBA/Desktop/Bike_Share_ Data/202112-divvy-tripdata.csv\")"
   ]
  },
  {
   "cell_type": "markdown",
   "id": "36471277-5443-455c-b142-681da3ba2bc3",
   "metadata": {},
   "source": [
    "## Binding Of Data\n",
    "\n",
    "In this code i will combine all 12 datasets row-wise into one big data set,so that i got valueable insights from it.\n",
    "\n"
   ]
  },
  {
   "cell_type": "code",
   "execution_count": 3,
   "id": "4a3a8cb5-f899-4036-8f8a-ee69c860b7a0",
   "metadata": {},
   "outputs": [
    {
     "name": "stdout",
     "output_type": "stream",
     "text": [
      "Rows: 5,595,063\n",
      "Columns: 13\n",
      "$ ride_id            \u001b[3m\u001b[90m<chr>\u001b[39m\u001b[23m \"E19E6F1B8D4C42ED\", \"DC88F20C2C55F27F\", \"EC45C94683…\n",
      "$ rideable_type      \u001b[3m\u001b[90m<chr>\u001b[39m\u001b[23m \"electric_bike\", \"electric_bike\", \"electric_bike\", …\n",
      "$ started_at         \u001b[3m\u001b[90m<dttm>\u001b[39m\u001b[23m 2021-01-23 16:14:19, 2021-01-27 18:43:08, 2021-01-…\n",
      "$ ended_at           \u001b[3m\u001b[90m<dttm>\u001b[39m\u001b[23m 2021-01-23 16:24:44, 2021-01-27 18:47:12, 2021-01-…\n",
      "$ start_station_name \u001b[3m\u001b[90m<chr>\u001b[39m\u001b[23m \"California Ave & Cortez St\", \"California Ave & Cor…\n",
      "$ start_station_id   \u001b[3m\u001b[90m<chr>\u001b[39m\u001b[23m \"17660\", \"17660\", \"17660\", \"17660\", \"17660\", \"17660…\n",
      "$ end_station_name   \u001b[3m\u001b[90m<chr>\u001b[39m\u001b[23m \u001b[31mNA\u001b[39m, \u001b[31mNA\u001b[39m, \u001b[31mNA\u001b[39m, \u001b[31mNA\u001b[39m, \u001b[31mNA\u001b[39m, \u001b[31mNA\u001b[39m, \u001b[31mNA\u001b[39m, \u001b[31mNA\u001b[39m, \u001b[31mNA\u001b[39m, \"Wood St & Augu…\n",
      "$ end_station_id     \u001b[3m\u001b[90m<chr>\u001b[39m\u001b[23m \u001b[31mNA\u001b[39m, \u001b[31mNA\u001b[39m, \u001b[31mNA\u001b[39m, \u001b[31mNA\u001b[39m, \u001b[31mNA\u001b[39m, \u001b[31mNA\u001b[39m, \u001b[31mNA\u001b[39m, \u001b[31mNA\u001b[39m, \u001b[31mNA\u001b[39m, \"657\", \"13258\",…\n",
      "$ start_lat          \u001b[3m\u001b[90m<dbl>\u001b[39m\u001b[23m 41.90034, 41.90033, 41.90031, 41.90040, 41.90033, 4…\n",
      "$ start_lng          \u001b[3m\u001b[90m<dbl>\u001b[39m\u001b[23m -87.69674, -87.69671, -87.69664, -87.69666, -87.696…\n",
      "$ end_lat            \u001b[3m\u001b[90m<dbl>\u001b[39m\u001b[23m 41.89000, 41.90000, 41.90000, 41.92000, 41.90000, 4…\n",
      "$ end_lng            \u001b[3m\u001b[90m<dbl>\u001b[39m\u001b[23m -87.72000, -87.69000, -87.70000, -87.69000, -87.700…\n",
      "$ member_casual      \u001b[3m\u001b[90m<chr>\u001b[39m\u001b[23m \"member\", \"member\", \"member\", \"member\", \"casual\", \"…\n"
     ]
    },
    {
     "data": {
      "text/html": [
       "<table class=\"dataframe\">\n",
       "<caption>A tibble: 6 × 13</caption>\n",
       "<thead>\n",
       "\t<tr><th scope=col>ride_id</th><th scope=col>rideable_type</th><th scope=col>started_at</th><th scope=col>ended_at</th><th scope=col>start_station_name</th><th scope=col>start_station_id</th><th scope=col>end_station_name</th><th scope=col>end_station_id</th><th scope=col>start_lat</th><th scope=col>start_lng</th><th scope=col>end_lat</th><th scope=col>end_lng</th><th scope=col>member_casual</th></tr>\n",
       "\t<tr><th scope=col>&lt;chr&gt;</th><th scope=col>&lt;chr&gt;</th><th scope=col>&lt;dttm&gt;</th><th scope=col>&lt;dttm&gt;</th><th scope=col>&lt;chr&gt;</th><th scope=col>&lt;chr&gt;</th><th scope=col>&lt;chr&gt;</th><th scope=col>&lt;chr&gt;</th><th scope=col>&lt;dbl&gt;</th><th scope=col>&lt;dbl&gt;</th><th scope=col>&lt;dbl&gt;</th><th scope=col>&lt;dbl&gt;</th><th scope=col>&lt;chr&gt;</th></tr>\n",
       "</thead>\n",
       "<tbody>\n",
       "\t<tr><td>E19E6F1B8D4C42ED</td><td>electric_bike</td><td>2021-01-23 16:14:19</td><td>2021-01-23 16:24:44</td><td>California Ave &amp; Cortez St</td><td>17660</td><td>NA</td><td>NA</td><td>41.90034</td><td>-87.69674</td><td>41.89</td><td>-87.72</td><td>member</td></tr>\n",
       "\t<tr><td>DC88F20C2C55F27F</td><td>electric_bike</td><td>2021-01-27 18:43:08</td><td>2021-01-27 18:47:12</td><td>California Ave &amp; Cortez St</td><td>17660</td><td>NA</td><td>NA</td><td>41.90033</td><td>-87.69671</td><td>41.90</td><td>-87.69</td><td>member</td></tr>\n",
       "\t<tr><td>EC45C94683FE3F27</td><td>electric_bike</td><td>2021-01-21 22:35:54</td><td>2021-01-21 22:37:14</td><td>California Ave &amp; Cortez St</td><td>17660</td><td>NA</td><td>NA</td><td>41.90031</td><td>-87.69664</td><td>41.90</td><td>-87.70</td><td>member</td></tr>\n",
       "\t<tr><td>4FA453A75AE377DB</td><td>electric_bike</td><td>2021-01-07 13:31:13</td><td>2021-01-07 13:42:55</td><td>California Ave &amp; Cortez St</td><td>17660</td><td>NA</td><td>NA</td><td>41.90040</td><td>-87.69666</td><td>41.92</td><td>-87.69</td><td>member</td></tr>\n",
       "\t<tr><td>BE5E8EB4E7263A0B</td><td>electric_bike</td><td>2021-01-23 02:24:02</td><td>2021-01-23 02:24:45</td><td>California Ave &amp; Cortez St</td><td>17660</td><td>NA</td><td>NA</td><td>41.90033</td><td>-87.69670</td><td>41.90</td><td>-87.70</td><td>casual</td></tr>\n",
       "\t<tr><td>5D8969F88C773979</td><td>electric_bike</td><td>2021-01-09 14:24:07</td><td>2021-01-09 15:17:54</td><td>California Ave &amp; Cortez St</td><td>17660</td><td>NA</td><td>NA</td><td>41.90041</td><td>-87.69676</td><td>41.94</td><td>-87.71</td><td>casual</td></tr>\n",
       "</tbody>\n",
       "</table>\n"
      ],
      "text/latex": [
       "A tibble: 6 × 13\n",
       "\\begin{tabular}{lllllllllllll}\n",
       " ride\\_id & rideable\\_type & started\\_at & ended\\_at & start\\_station\\_name & start\\_station\\_id & end\\_station\\_name & end\\_station\\_id & start\\_lat & start\\_lng & end\\_lat & end\\_lng & member\\_casual\\\\\n",
       " <chr> & <chr> & <dttm> & <dttm> & <chr> & <chr> & <chr> & <chr> & <dbl> & <dbl> & <dbl> & <dbl> & <chr>\\\\\n",
       "\\hline\n",
       "\t E19E6F1B8D4C42ED & electric\\_bike & 2021-01-23 16:14:19 & 2021-01-23 16:24:44 & California Ave \\& Cortez St & 17660 & NA & NA & 41.90034 & -87.69674 & 41.89 & -87.72 & member\\\\\n",
       "\t DC88F20C2C55F27F & electric\\_bike & 2021-01-27 18:43:08 & 2021-01-27 18:47:12 & California Ave \\& Cortez St & 17660 & NA & NA & 41.90033 & -87.69671 & 41.90 & -87.69 & member\\\\\n",
       "\t EC45C94683FE3F27 & electric\\_bike & 2021-01-21 22:35:54 & 2021-01-21 22:37:14 & California Ave \\& Cortez St & 17660 & NA & NA & 41.90031 & -87.69664 & 41.90 & -87.70 & member\\\\\n",
       "\t 4FA453A75AE377DB & electric\\_bike & 2021-01-07 13:31:13 & 2021-01-07 13:42:55 & California Ave \\& Cortez St & 17660 & NA & NA & 41.90040 & -87.69666 & 41.92 & -87.69 & member\\\\\n",
       "\t BE5E8EB4E7263A0B & electric\\_bike & 2021-01-23 02:24:02 & 2021-01-23 02:24:45 & California Ave \\& Cortez St & 17660 & NA & NA & 41.90033 & -87.69670 & 41.90 & -87.70 & casual\\\\\n",
       "\t 5D8969F88C773979 & electric\\_bike & 2021-01-09 14:24:07 & 2021-01-09 15:17:54 & California Ave \\& Cortez St & 17660 & NA & NA & 41.90041 & -87.69676 & 41.94 & -87.71 & casual\\\\\n",
       "\\end{tabular}\n"
      ],
      "text/markdown": [
       "\n",
       "A tibble: 6 × 13\n",
       "\n",
       "| ride_id &lt;chr&gt; | rideable_type &lt;chr&gt; | started_at &lt;dttm&gt; | ended_at &lt;dttm&gt; | start_station_name &lt;chr&gt; | start_station_id &lt;chr&gt; | end_station_name &lt;chr&gt; | end_station_id &lt;chr&gt; | start_lat &lt;dbl&gt; | start_lng &lt;dbl&gt; | end_lat &lt;dbl&gt; | end_lng &lt;dbl&gt; | member_casual &lt;chr&gt; |\n",
       "|---|---|---|---|---|---|---|---|---|---|---|---|---|\n",
       "| E19E6F1B8D4C42ED | electric_bike | 2021-01-23 16:14:19 | 2021-01-23 16:24:44 | California Ave &amp; Cortez St | 17660 | NA | NA | 41.90034 | -87.69674 | 41.89 | -87.72 | member |\n",
       "| DC88F20C2C55F27F | electric_bike | 2021-01-27 18:43:08 | 2021-01-27 18:47:12 | California Ave &amp; Cortez St | 17660 | NA | NA | 41.90033 | -87.69671 | 41.90 | -87.69 | member |\n",
       "| EC45C94683FE3F27 | electric_bike | 2021-01-21 22:35:54 | 2021-01-21 22:37:14 | California Ave &amp; Cortez St | 17660 | NA | NA | 41.90031 | -87.69664 | 41.90 | -87.70 | member |\n",
       "| 4FA453A75AE377DB | electric_bike | 2021-01-07 13:31:13 | 2021-01-07 13:42:55 | California Ave &amp; Cortez St | 17660 | NA | NA | 41.90040 | -87.69666 | 41.92 | -87.69 | member |\n",
       "| BE5E8EB4E7263A0B | electric_bike | 2021-01-23 02:24:02 | 2021-01-23 02:24:45 | California Ave &amp; Cortez St | 17660 | NA | NA | 41.90033 | -87.69670 | 41.90 | -87.70 | casual |\n",
       "| 5D8969F88C773979 | electric_bike | 2021-01-09 14:24:07 | 2021-01-09 15:17:54 | California Ave &amp; Cortez St | 17660 | NA | NA | 41.90041 | -87.69676 | 41.94 | -87.71 | casual |\n",
       "\n"
      ],
      "text/plain": [
       "  ride_id          rideable_type started_at          ended_at           \n",
       "1 E19E6F1B8D4C42ED electric_bike 2021-01-23 16:14:19 2021-01-23 16:24:44\n",
       "2 DC88F20C2C55F27F electric_bike 2021-01-27 18:43:08 2021-01-27 18:47:12\n",
       "3 EC45C94683FE3F27 electric_bike 2021-01-21 22:35:54 2021-01-21 22:37:14\n",
       "4 4FA453A75AE377DB electric_bike 2021-01-07 13:31:13 2021-01-07 13:42:55\n",
       "5 BE5E8EB4E7263A0B electric_bike 2021-01-23 02:24:02 2021-01-23 02:24:45\n",
       "6 5D8969F88C773979 electric_bike 2021-01-09 14:24:07 2021-01-09 15:17:54\n",
       "  start_station_name         start_station_id end_station_name end_station_id\n",
       "1 California Ave & Cortez St 17660            NA               NA            \n",
       "2 California Ave & Cortez St 17660            NA               NA            \n",
       "3 California Ave & Cortez St 17660            NA               NA            \n",
       "4 California Ave & Cortez St 17660            NA               NA            \n",
       "5 California Ave & Cortez St 17660            NA               NA            \n",
       "6 California Ave & Cortez St 17660            NA               NA            \n",
       "  start_lat start_lng end_lat end_lng member_casual\n",
       "1 41.90034  -87.69674 41.89   -87.72  member       \n",
       "2 41.90033  -87.69671 41.90   -87.69  member       \n",
       "3 41.90031  -87.69664 41.90   -87.70  member       \n",
       "4 41.90040  -87.69666 41.92   -87.69  member       \n",
       "5 41.90033  -87.69670 41.90   -87.70  casual       \n",
       "6 41.90041  -87.69676 41.94   -87.71  casual       "
      ]
     },
     "metadata": {},
     "output_type": "display_data"
    }
   ],
   "source": [
    "data <- bind_rows(data_01, data_02, data_03, data_04, data_05, data_06, data_07, data_08, data_09, data_10, data_11, data_12)\n",
    "glimpse(data)\n",
    "data %>% head()"
   ]
  },
  {
   "cell_type": "code",
   "execution_count": 4,
   "id": "9e853ea1-8220-48a0-a6c3-ff9fd8ab2e28",
   "metadata": {},
   "outputs": [],
   "source": [
    "data_null <- data %>%\n",
    "  filter(if_any(everything(), is.na))"
   ]
  },
  {
   "cell_type": "code",
   "execution_count": 5,
   "id": "84507386-6cb6-4b21-80c4-90814a96e803",
   "metadata": {
    "scrolled": true
   },
   "outputs": [
    {
     "name": "stdout",
     "output_type": "stream",
     "text": [
      "Rows: 1,006,761\n",
      "Columns: 13\n",
      "$ ride_id            \u001b[3m\u001b[90m<chr>\u001b[39m\u001b[23m \"E19E6F1B8D4C42ED\", \"DC88F20C2C55F27F\", \"EC45C94683…\n",
      "$ rideable_type      \u001b[3m\u001b[90m<chr>\u001b[39m\u001b[23m \"electric_bike\", \"electric_bike\", \"electric_bike\", …\n",
      "$ started_at         \u001b[3m\u001b[90m<dttm>\u001b[39m\u001b[23m 2021-01-23 16:14:19, 2021-01-27 18:43:08, 2021-01-…\n",
      "$ ended_at           \u001b[3m\u001b[90m<dttm>\u001b[39m\u001b[23m 2021-01-23 16:24:44, 2021-01-27 18:47:12, 2021-01-…\n",
      "$ start_station_name \u001b[3m\u001b[90m<chr>\u001b[39m\u001b[23m \"California Ave & Cortez St\", \"California Ave & Cor…\n",
      "$ start_station_id   \u001b[3m\u001b[90m<chr>\u001b[39m\u001b[23m \"17660\", \"17660\", \"17660\", \"17660\", \"17660\", \"17660…\n",
      "$ end_station_name   \u001b[3m\u001b[90m<chr>\u001b[39m\u001b[23m \u001b[31mNA\u001b[39m, \u001b[31mNA\u001b[39m, \u001b[31mNA\u001b[39m, \u001b[31mNA\u001b[39m, \u001b[31mNA\u001b[39m, \u001b[31mNA\u001b[39m, \u001b[31mNA\u001b[39m, \u001b[31mNA\u001b[39m, \u001b[31mNA\u001b[39m, \u001b[31mNA\u001b[39m, \u001b[31mNA\u001b[39m, \u001b[31mNA\u001b[39m, \u001b[31mNA\u001b[39m,…\n",
      "$ end_station_id     \u001b[3m\u001b[90m<chr>\u001b[39m\u001b[23m \u001b[31mNA\u001b[39m, \u001b[31mNA\u001b[39m, \u001b[31mNA\u001b[39m, \u001b[31mNA\u001b[39m, \u001b[31mNA\u001b[39m, \u001b[31mNA\u001b[39m, \u001b[31mNA\u001b[39m, \u001b[31mNA\u001b[39m, \u001b[31mNA\u001b[39m, \u001b[31mNA\u001b[39m, \u001b[31mNA\u001b[39m, \u001b[31mNA\u001b[39m, \u001b[31mNA\u001b[39m,…\n",
      "$ start_lat          \u001b[3m\u001b[90m<dbl>\u001b[39m\u001b[23m 41.90034, 41.90033, 41.90031, 41.90040, 41.90033, 4…\n",
      "$ start_lng          \u001b[3m\u001b[90m<dbl>\u001b[39m\u001b[23m -87.69674, -87.69671, -87.69664, -87.69666, -87.696…\n",
      "$ end_lat            \u001b[3m\u001b[90m<dbl>\u001b[39m\u001b[23m 41.89, 41.90, 41.90, 41.92, 41.90, 41.94, 41.90, 41…\n",
      "$ end_lng            \u001b[3m\u001b[90m<dbl>\u001b[39m\u001b[23m -87.72, -87.69, -87.70, -87.69, -87.70, -87.71, -87…\n",
      "$ member_casual      \u001b[3m\u001b[90m<chr>\u001b[39m\u001b[23m \"member\", \"member\", \"member\", \"member\", \"casual\", \"…\n"
     ]
    }
   ],
   "source": [
    "glimpse(data_null)"
   ]
  },
  {
   "cell_type": "markdown",
   "id": "787d2434-2356-4bac-ace3-e226d6935f3b",
   "metadata": {},
   "source": [
    "## Important Note on Null Values and Data Reduction\r\n",
    "\r\n",
    "If you check, there are over one million rows with null values. However, the dataset has 13 variables,  \r\n",
    "and I will only consider the variables that are important for our analysis.  \r\n",
    "Specifically, I will focus on 4 variables: rideable_type, started_at, ended_at, and member_casual.  \r\n",
    "Many of the null values are in the unimportant variables.  \r\n",
    "So, before removing null values, I will first remove the unimportant variables.  \r\n",
    "This way, instead of losing over one million rows, I will lose very few or possibly none.  \r\n",
    "The larger the dataset, the more valuable and effective the insights can be."
   ]
  },
  {
   "cell_type": "code",
   "execution_count": 6,
   "id": "2254551e-6d57-43d8-bdc6-732e32eaf531",
   "metadata": {},
   "outputs": [
    {
     "name": "stdout",
     "output_type": "stream",
     "text": [
      "Rows: 5,595,063\n",
      "Columns: 4\n",
      "$ rideable_type \u001b[3m\u001b[90m<chr>\u001b[39m\u001b[23m \"electric_bike\", \"electric_bike\", \"electric_bike\", \"elec…\n",
      "$ started_at    \u001b[3m\u001b[90m<dttm>\u001b[39m\u001b[23m 2021-01-23 16:14:19, 2021-01-27 18:43:08, 2021-01-21 22…\n",
      "$ ended_at      \u001b[3m\u001b[90m<dttm>\u001b[39m\u001b[23m 2021-01-23 16:24:44, 2021-01-27 18:47:12, 2021-01-21 22…\n",
      "$ member_casual \u001b[3m\u001b[90m<chr>\u001b[39m\u001b[23m \"member\", \"member\", \"member\", \"member\", \"casual\", \"casua…\n"
     ]
    }
   ],
   "source": [
    "data_01_new<-data%>%select(rideable_type,started_at,ended_at,member_casual)\n",
    "glimpse(data_01_new)"
   ]
  },
  {
   "cell_type": "code",
   "execution_count": 7,
   "id": "3b8a9b17-f8db-4835-bbf0-51e95208d79c",
   "metadata": {},
   "outputs": [],
   "source": [
    "data_01_null<-data_01_new%>%filter(if_any(everything(),is.na))"
   ]
  },
  {
   "cell_type": "code",
   "execution_count": 8,
   "id": "3f28385d-ae72-4aa1-bcd5-4549329ec27d",
   "metadata": {},
   "outputs": [
    {
     "name": "stdout",
     "output_type": "stream",
     "text": [
      "Rows: 0\n",
      "Columns: 4\n",
      "$ rideable_type \u001b[3m\u001b[90m<chr>\u001b[39m\u001b[23m \n",
      "$ started_at    \u001b[3m\u001b[90m<dttm>\u001b[39m\u001b[23m \n",
      "$ ended_at      \u001b[3m\u001b[90m<dttm>\u001b[39m\u001b[23m \n",
      "$ member_casual \u001b[3m\u001b[90m<chr>\u001b[39m\u001b[23m \n"
     ]
    }
   ],
   "source": [
    "glimpse(data_01_null)"
   ]
  },
  {
   "cell_type": "markdown",
   "id": "3fa9c8bc-e21d-41d3-b1e9-9eb660854bb2",
   "metadata": {},
   "source": [
    "## Null Value Check After Removing Unimportant Variables\r\n",
    "\r\n",
    "In the above code I observed that there are no null values in the data after removing unimportant variables,  \r\n",
    "so there is no need to remove null values.  "
   ]
  },
  {
   "cell_type": "markdown",
   "id": "b9269646-305a-415c-b130-2f7510d14656",
   "metadata": {},
   "source": [
    "## Removing Duplicate Rows\r\n",
    "\r\n",
    "Now in this code I will remove duplicate rows from data."
   ]
  },
  {
   "cell_type": "code",
   "execution_count": 9,
   "id": "fa3c477e-52f9-4bee-89af-ed6c0c76d124",
   "metadata": {},
   "outputs": [
    {
     "name": "stdout",
     "output_type": "stream",
     "text": [
      "Rows: 5,594,336\n",
      "Columns: 4\n",
      "$ rideable_type \u001b[3m\u001b[90m<chr>\u001b[39m\u001b[23m \"electric_bike\", \"electric_bike\", \"electric_bike\", \"elec…\n",
      "$ started_at    \u001b[3m\u001b[90m<dttm>\u001b[39m\u001b[23m 2021-01-23 16:14:19, 2021-01-27 18:43:08, 2021-01-21 22…\n",
      "$ ended_at      \u001b[3m\u001b[90m<dttm>\u001b[39m\u001b[23m 2021-01-23 16:24:44, 2021-01-27 18:47:12, 2021-01-21 22…\n",
      "$ member_casual \u001b[3m\u001b[90m<chr>\u001b[39m\u001b[23m \"member\", \"member\", \"member\", \"member\", \"casual\", \"casua…\n"
     ]
    }
   ],
   "source": [
    "data_02_new<-data_01_new %>% distinct()\n",
    "glimpse(data_02_new)"
   ]
  },
  {
   "cell_type": "markdown",
   "id": "54a56b77-dd33-44ed-a86c-1f000916bd42",
   "metadata": {},
   "source": [
    "## Result After Removing Duplicate Rows\n",
    "\n",
    "After removing duplicates, if you compare new data with previous data,  \n",
    "there were 727 duplicate rows in old data which is negligible amount in so big data,  \n",
    "but after removing, our data became clean and will lead to effective result."
   ]
  },
  {
   "cell_type": "code",
   "execution_count": 10,
   "id": "dca1b244-4e24-4edd-941b-1c2a9ffd90b1",
   "metadata": {},
   "outputs": [
    {
     "data": {
      "text/html": [
       "<table class=\"dataframe\">\n",
       "<caption>A tibble: 6 × 4</caption>\n",
       "<thead>\n",
       "\t<tr><th scope=col>rideable_type</th><th scope=col>started_at</th><th scope=col>ended_at</th><th scope=col>member_casual</th></tr>\n",
       "\t<tr><th scope=col>&lt;chr&gt;</th><th scope=col>&lt;dttm&gt;</th><th scope=col>&lt;dttm&gt;</th><th scope=col>&lt;chr&gt;</th></tr>\n",
       "</thead>\n",
       "<tbody>\n",
       "\t<tr><td>electric_bike</td><td>2021-01-23 16:14:19</td><td>2021-01-23 16:24:44</td><td>member</td></tr>\n",
       "\t<tr><td>electric_bike</td><td>2021-01-27 18:43:08</td><td>2021-01-27 18:47:12</td><td>member</td></tr>\n",
       "\t<tr><td>electric_bike</td><td>2021-01-21 22:35:54</td><td>2021-01-21 22:37:14</td><td>member</td></tr>\n",
       "\t<tr><td>electric_bike</td><td>2021-01-07 13:31:13</td><td>2021-01-07 13:42:55</td><td>member</td></tr>\n",
       "\t<tr><td>electric_bike</td><td>2021-01-23 02:24:02</td><td>2021-01-23 02:24:45</td><td>casual</td></tr>\n",
       "\t<tr><td>electric_bike</td><td>2021-01-09 14:24:07</td><td>2021-01-09 15:17:54</td><td>casual</td></tr>\n",
       "</tbody>\n",
       "</table>\n"
      ],
      "text/latex": [
       "A tibble: 6 × 4\n",
       "\\begin{tabular}{llll}\n",
       " rideable\\_type & started\\_at & ended\\_at & member\\_casual\\\\\n",
       " <chr> & <dttm> & <dttm> & <chr>\\\\\n",
       "\\hline\n",
       "\t electric\\_bike & 2021-01-23 16:14:19 & 2021-01-23 16:24:44 & member\\\\\n",
       "\t electric\\_bike & 2021-01-27 18:43:08 & 2021-01-27 18:47:12 & member\\\\\n",
       "\t electric\\_bike & 2021-01-21 22:35:54 & 2021-01-21 22:37:14 & member\\\\\n",
       "\t electric\\_bike & 2021-01-07 13:31:13 & 2021-01-07 13:42:55 & member\\\\\n",
       "\t electric\\_bike & 2021-01-23 02:24:02 & 2021-01-23 02:24:45 & casual\\\\\n",
       "\t electric\\_bike & 2021-01-09 14:24:07 & 2021-01-09 15:17:54 & casual\\\\\n",
       "\\end{tabular}\n"
      ],
      "text/markdown": [
       "\n",
       "A tibble: 6 × 4\n",
       "\n",
       "| rideable_type &lt;chr&gt; | started_at &lt;dttm&gt; | ended_at &lt;dttm&gt; | member_casual &lt;chr&gt; |\n",
       "|---|---|---|---|\n",
       "| electric_bike | 2021-01-23 16:14:19 | 2021-01-23 16:24:44 | member |\n",
       "| electric_bike | 2021-01-27 18:43:08 | 2021-01-27 18:47:12 | member |\n",
       "| electric_bike | 2021-01-21 22:35:54 | 2021-01-21 22:37:14 | member |\n",
       "| electric_bike | 2021-01-07 13:31:13 | 2021-01-07 13:42:55 | member |\n",
       "| electric_bike | 2021-01-23 02:24:02 | 2021-01-23 02:24:45 | casual |\n",
       "| electric_bike | 2021-01-09 14:24:07 | 2021-01-09 15:17:54 | casual |\n",
       "\n"
      ],
      "text/plain": [
       "  rideable_type started_at          ended_at            member_casual\n",
       "1 electric_bike 2021-01-23 16:14:19 2021-01-23 16:24:44 member       \n",
       "2 electric_bike 2021-01-27 18:43:08 2021-01-27 18:47:12 member       \n",
       "3 electric_bike 2021-01-21 22:35:54 2021-01-21 22:37:14 member       \n",
       "4 electric_bike 2021-01-07 13:31:13 2021-01-07 13:42:55 member       \n",
       "5 electric_bike 2021-01-23 02:24:02 2021-01-23 02:24:45 casual       \n",
       "6 electric_bike 2021-01-09 14:24:07 2021-01-09 15:17:54 casual       "
      ]
     },
     "metadata": {},
     "output_type": "display_data"
    }
   ],
   "source": [
    "data_02_new%>%head()"
   ]
  },
  {
   "cell_type": "markdown",
   "id": "2bcaa3d3-6aa4-4671-936e-a82f0bf2049d",
   "metadata": {},
   "source": [
    "# 4 & 5. Analyze and Share Phase\r\n",
    "\r\n",
    "Now that the Process phase is complete, my data is ready for the Analyze and Share phase.  \r\n",
    "In this phase, I will organize and format the data as needed to uncover meaningful patterns.  \r\n",
    "Then, I will visualize these patterns using graphs such as pie charts and bar charts.  \r\n",
    "These visualizations will make it easier to identify trends and draw valuable insights that help address the business problem the company is facing.  \r\n",
    "This step is crucial in transforming raw data into actionable knowledge and effectively communicating findings to stakeholders for informed decision-making.king."
   ]
  },
  {
   "cell_type": "markdown",
   "id": "070abf5a-aa7c-4b37-9060-93e70adef085",
   "metadata": {},
   "source": [
    " ## Creating New Columns for Deeper Analysis\r\n",
    "\r\n",
    "Now in this code, I will create four new columns: `trip_duration`, `month`, `weekday`, and `hour`.  \r\n",
    "The `trip_duration` column will be calculated using the two given variables: `started_at` and `ended_at`,  \r\n",
    "while the other three columns will be extracted from the `started_at` variable.  \r\n",
    "Collectively, these four new variables will be very valuable for our upcoming analysis."
   ]
  },
  {
   "cell_type": "code",
   "execution_count": 11,
   "id": "ccb4a54b-a0fd-4c44-9705-c41f3a48b866",
   "metadata": {},
   "outputs": [],
   "source": [
    "data_03_new<-data_02_new %>%mutate(trip_duration=if_else(ended_at<started_at,ended_at+24-started_at,ended_at-started_at))"
   ]
  },
  {
   "cell_type": "code",
   "execution_count": 12,
   "id": "66d7d230-eb3b-4d21-904b-d78aa2747ce7",
   "metadata": {},
   "outputs": [
    {
     "data": {
      "text/html": [
       "<table class=\"dataframe\">\n",
       "<caption>A tibble: 6 × 5</caption>\n",
       "<thead>\n",
       "\t<tr><th scope=col>rideable_type</th><th scope=col>started_at</th><th scope=col>ended_at</th><th scope=col>member_casual</th><th scope=col>trip_duration</th></tr>\n",
       "\t<tr><th scope=col>&lt;chr&gt;</th><th scope=col>&lt;dttm&gt;</th><th scope=col>&lt;dttm&gt;</th><th scope=col>&lt;chr&gt;</th><th scope=col>&lt;drtn&gt;</th></tr>\n",
       "</thead>\n",
       "<tbody>\n",
       "\t<tr><td>electric_bike</td><td>2021-01-23 16:14:19</td><td>2021-01-23 16:24:44</td><td>member</td><td> 625 secs</td></tr>\n",
       "\t<tr><td>electric_bike</td><td>2021-01-27 18:43:08</td><td>2021-01-27 18:47:12</td><td>member</td><td> 244 secs</td></tr>\n",
       "\t<tr><td>electric_bike</td><td>2021-01-21 22:35:54</td><td>2021-01-21 22:37:14</td><td>member</td><td>  80 secs</td></tr>\n",
       "\t<tr><td>electric_bike</td><td>2021-01-07 13:31:13</td><td>2021-01-07 13:42:55</td><td>member</td><td> 702 secs</td></tr>\n",
       "\t<tr><td>electric_bike</td><td>2021-01-23 02:24:02</td><td>2021-01-23 02:24:45</td><td>casual</td><td>  43 secs</td></tr>\n",
       "\t<tr><td>electric_bike</td><td>2021-01-09 14:24:07</td><td>2021-01-09 15:17:54</td><td>casual</td><td>3227 secs</td></tr>\n",
       "</tbody>\n",
       "</table>\n"
      ],
      "text/latex": [
       "A tibble: 6 × 5\n",
       "\\begin{tabular}{lllll}\n",
       " rideable\\_type & started\\_at & ended\\_at & member\\_casual & trip\\_duration\\\\\n",
       " <chr> & <dttm> & <dttm> & <chr> & <drtn>\\\\\n",
       "\\hline\n",
       "\t electric\\_bike & 2021-01-23 16:14:19 & 2021-01-23 16:24:44 & member &  625 secs\\\\\n",
       "\t electric\\_bike & 2021-01-27 18:43:08 & 2021-01-27 18:47:12 & member &  244 secs\\\\\n",
       "\t electric\\_bike & 2021-01-21 22:35:54 & 2021-01-21 22:37:14 & member &   80 secs\\\\\n",
       "\t electric\\_bike & 2021-01-07 13:31:13 & 2021-01-07 13:42:55 & member &  702 secs\\\\\n",
       "\t electric\\_bike & 2021-01-23 02:24:02 & 2021-01-23 02:24:45 & casual &   43 secs\\\\\n",
       "\t electric\\_bike & 2021-01-09 14:24:07 & 2021-01-09 15:17:54 & casual & 3227 secs\\\\\n",
       "\\end{tabular}\n"
      ],
      "text/markdown": [
       "\n",
       "A tibble: 6 × 5\n",
       "\n",
       "| rideable_type &lt;chr&gt; | started_at &lt;dttm&gt; | ended_at &lt;dttm&gt; | member_casual &lt;chr&gt; | trip_duration &lt;drtn&gt; |\n",
       "|---|---|---|---|---|\n",
       "| electric_bike | 2021-01-23 16:14:19 | 2021-01-23 16:24:44 | member |  625 secs |\n",
       "| electric_bike | 2021-01-27 18:43:08 | 2021-01-27 18:47:12 | member |  244 secs |\n",
       "| electric_bike | 2021-01-21 22:35:54 | 2021-01-21 22:37:14 | member |   80 secs |\n",
       "| electric_bike | 2021-01-07 13:31:13 | 2021-01-07 13:42:55 | member |  702 secs |\n",
       "| electric_bike | 2021-01-23 02:24:02 | 2021-01-23 02:24:45 | casual |   43 secs |\n",
       "| electric_bike | 2021-01-09 14:24:07 | 2021-01-09 15:17:54 | casual | 3227 secs |\n",
       "\n"
      ],
      "text/plain": [
       "  rideable_type started_at          ended_at            member_casual\n",
       "1 electric_bike 2021-01-23 16:14:19 2021-01-23 16:24:44 member       \n",
       "2 electric_bike 2021-01-27 18:43:08 2021-01-27 18:47:12 member       \n",
       "3 electric_bike 2021-01-21 22:35:54 2021-01-21 22:37:14 member       \n",
       "4 electric_bike 2021-01-07 13:31:13 2021-01-07 13:42:55 member       \n",
       "5 electric_bike 2021-01-23 02:24:02 2021-01-23 02:24:45 casual       \n",
       "6 electric_bike 2021-01-09 14:24:07 2021-01-09 15:17:54 casual       \n",
       "  trip_duration\n",
       "1  625 secs    \n",
       "2  244 secs    \n",
       "3   80 secs    \n",
       "4  702 secs    \n",
       "5   43 secs    \n",
       "6 3227 secs    "
      ]
     },
     "metadata": {},
     "output_type": "display_data"
    }
   ],
   "source": [
    "data_03_new%>%head()"
   ]
  },
  {
   "cell_type": "code",
   "execution_count": 43,
   "id": "337c37f8-60e3-4983-85f2-273f72e1eb47",
   "metadata": {},
   "outputs": [],
   "source": [
    "data_04_new<-data_03_new%>%mutate(month=month(started_at,label=TRUE),\n",
    "weekday=wday(started_at,label=TRUE))"
   ]
  },
  {
   "cell_type": "code",
   "execution_count": 42,
   "id": "6d643a1f-9510-430f-84df-7795e9fb3908",
   "metadata": {},
   "outputs": [
    {
     "data": {
      "text/html": [
       "<table class=\"dataframe\">\n",
       "<caption>A tibble: 6 × 7</caption>\n",
       "<thead>\n",
       "\t<tr><th scope=col>rideable_type</th><th scope=col>started_at</th><th scope=col>ended_at</th><th scope=col>member_casual</th><th scope=col>trip_duration</th><th scope=col>month</th><th scope=col>weekday</th></tr>\n",
       "\t<tr><th scope=col>&lt;chr&gt;</th><th scope=col>&lt;dttm&gt;</th><th scope=col>&lt;dttm&gt;</th><th scope=col>&lt;chr&gt;</th><th scope=col>&lt;drtn&gt;</th><th scope=col>&lt;ord&gt;</th><th scope=col>&lt;ord&gt;</th></tr>\n",
       "</thead>\n",
       "<tbody>\n",
       "\t<tr><td>electric_bike</td><td>2021-01-23 16:14:19</td><td>2021-01-23 16:24:44</td><td>member</td><td> 625 secs</td><td>Jan</td><td>Sat</td></tr>\n",
       "\t<tr><td>electric_bike</td><td>2021-01-27 18:43:08</td><td>2021-01-27 18:47:12</td><td>member</td><td> 244 secs</td><td>Jan</td><td>Wed</td></tr>\n",
       "\t<tr><td>electric_bike</td><td>2021-01-21 22:35:54</td><td>2021-01-21 22:37:14</td><td>member</td><td>  80 secs</td><td>Jan</td><td>Thu</td></tr>\n",
       "\t<tr><td>electric_bike</td><td>2021-01-07 13:31:13</td><td>2021-01-07 13:42:55</td><td>member</td><td> 702 secs</td><td>Jan</td><td>Thu</td></tr>\n",
       "\t<tr><td>electric_bike</td><td>2021-01-23 02:24:02</td><td>2021-01-23 02:24:45</td><td>casual</td><td>  43 secs</td><td>Jan</td><td>Sat</td></tr>\n",
       "\t<tr><td>electric_bike</td><td>2021-01-09 14:24:07</td><td>2021-01-09 15:17:54</td><td>casual</td><td>3227 secs</td><td>Jan</td><td>Sat</td></tr>\n",
       "</tbody>\n",
       "</table>\n"
      ],
      "text/latex": [
       "A tibble: 6 × 7\n",
       "\\begin{tabular}{lllllll}\n",
       " rideable\\_type & started\\_at & ended\\_at & member\\_casual & trip\\_duration & month & weekday\\\\\n",
       " <chr> & <dttm> & <dttm> & <chr> & <drtn> & <ord> & <ord>\\\\\n",
       "\\hline\n",
       "\t electric\\_bike & 2021-01-23 16:14:19 & 2021-01-23 16:24:44 & member &  625 secs & Jan & Sat\\\\\n",
       "\t electric\\_bike & 2021-01-27 18:43:08 & 2021-01-27 18:47:12 & member &  244 secs & Jan & Wed\\\\\n",
       "\t electric\\_bike & 2021-01-21 22:35:54 & 2021-01-21 22:37:14 & member &   80 secs & Jan & Thu\\\\\n",
       "\t electric\\_bike & 2021-01-07 13:31:13 & 2021-01-07 13:42:55 & member &  702 secs & Jan & Thu\\\\\n",
       "\t electric\\_bike & 2021-01-23 02:24:02 & 2021-01-23 02:24:45 & casual &   43 secs & Jan & Sat\\\\\n",
       "\t electric\\_bike & 2021-01-09 14:24:07 & 2021-01-09 15:17:54 & casual & 3227 secs & Jan & Sat\\\\\n",
       "\\end{tabular}\n"
      ],
      "text/markdown": [
       "\n",
       "A tibble: 6 × 7\n",
       "\n",
       "| rideable_type &lt;chr&gt; | started_at &lt;dttm&gt; | ended_at &lt;dttm&gt; | member_casual &lt;chr&gt; | trip_duration &lt;drtn&gt; | month &lt;ord&gt; | weekday &lt;ord&gt; |\n",
       "|---|---|---|---|---|---|---|\n",
       "| electric_bike | 2021-01-23 16:14:19 | 2021-01-23 16:24:44 | member |  625 secs | Jan | Sat |\n",
       "| electric_bike | 2021-01-27 18:43:08 | 2021-01-27 18:47:12 | member |  244 secs | Jan | Wed |\n",
       "| electric_bike | 2021-01-21 22:35:54 | 2021-01-21 22:37:14 | member |   80 secs | Jan | Thu |\n",
       "| electric_bike | 2021-01-07 13:31:13 | 2021-01-07 13:42:55 | member |  702 secs | Jan | Thu |\n",
       "| electric_bike | 2021-01-23 02:24:02 | 2021-01-23 02:24:45 | casual |   43 secs | Jan | Sat |\n",
       "| electric_bike | 2021-01-09 14:24:07 | 2021-01-09 15:17:54 | casual | 3227 secs | Jan | Sat |\n",
       "\n"
      ],
      "text/plain": [
       "  rideable_type started_at          ended_at            member_casual\n",
       "1 electric_bike 2021-01-23 16:14:19 2021-01-23 16:24:44 member       \n",
       "2 electric_bike 2021-01-27 18:43:08 2021-01-27 18:47:12 member       \n",
       "3 electric_bike 2021-01-21 22:35:54 2021-01-21 22:37:14 member       \n",
       "4 electric_bike 2021-01-07 13:31:13 2021-01-07 13:42:55 member       \n",
       "5 electric_bike 2021-01-23 02:24:02 2021-01-23 02:24:45 casual       \n",
       "6 electric_bike 2021-01-09 14:24:07 2021-01-09 15:17:54 casual       \n",
       "  trip_duration month weekday\n",
       "1  625 secs     Jan   Sat    \n",
       "2  244 secs     Jan   Wed    \n",
       "3   80 secs     Jan   Thu    \n",
       "4  702 secs     Jan   Thu    \n",
       "5   43 secs     Jan   Sat    \n",
       "6 3227 secs     Jan   Sat    "
      ]
     },
     "metadata": {},
     "output_type": "display_data"
    }
   ],
   "source": [
    "data_04_new%>%head()"
   ]
  },
  {
   "cell_type": "markdown",
   "id": "cda32770-31f2-4f1a-89a2-d9a42aac3de1",
   "metadata": {},
   "source": [
    "## Removing Outliers from Trip Duration\n",
    "\n",
    "Now in the coming code, I will remove outliers—  \n",
    "these are the records where `trip_duration` is less than or equal to 0, or greater than 86,400.  \n",
    "Since `trip_duration` represents the ride length in seconds, it cannot be negative or zero.  \n",
    "Also, as there are 86,400 seconds in one day, any ride longer than that is considered invalid according to the company’s rules."
   ]
  },
  {
   "cell_type": "code",
   "execution_count": 15,
   "id": "3632359a-08d8-47ae-b8c6-a54bc9c4ec9a",
   "metadata": {},
   "outputs": [
    {
     "data": {
      "text/html": [
       "<table class=\"dataframe\">\n",
       "<caption>A tibble: 89 × 1</caption>\n",
       "<thead>\n",
       "\t<tr><th scope=col>trip_duration</th></tr>\n",
       "\t<tr><th scope=col>&lt;drtn&gt;</th></tr>\n",
       "</thead>\n",
       "<tbody>\n",
       "\t<tr><td> -79 secs</td></tr>\n",
       "\t<tr><td>-101 secs</td></tr>\n",
       "\t<tr><td>-108 secs</td></tr>\n",
       "\t<tr><td>-168 secs</td></tr>\n",
       "\t<tr><td>-282 secs</td></tr>\n",
       "\t<tr><td> -12 secs</td></tr>\n",
       "\t<tr><td> -34 secs</td></tr>\n",
       "\t<tr><td> -46 secs</td></tr>\n",
       "\t<tr><td> -39 secs</td></tr>\n",
       "\t<tr><td>  -4 secs</td></tr>\n",
       "\t<tr><td> -21 secs</td></tr>\n",
       "\t<tr><td>-143 secs</td></tr>\n",
       "\t<tr><td>-136 secs</td></tr>\n",
       "\t<tr><td> -48 secs</td></tr>\n",
       "\t<tr><td> -83 secs</td></tr>\n",
       "\t<tr><td> -13 secs</td></tr>\n",
       "\t<tr><td>-362 secs</td></tr>\n",
       "\t<tr><td> -10 secs</td></tr>\n",
       "\t<tr><td>-119 secs</td></tr>\n",
       "\t<tr><td>  -6 secs</td></tr>\n",
       "\t<tr><td>-142 secs</td></tr>\n",
       "\t<tr><td> -44 secs</td></tr>\n",
       "\t<tr><td> -28 secs</td></tr>\n",
       "\t<tr><td>  -6 secs</td></tr>\n",
       "\t<tr><td>-399 secs</td></tr>\n",
       "\t<tr><td>-243 secs</td></tr>\n",
       "\t<tr><td>  -5 secs</td></tr>\n",
       "\t<tr><td>  -8 secs</td></tr>\n",
       "\t<tr><td>  -7 secs</td></tr>\n",
       "\t<tr><td>-167 secs</td></tr>\n",
       "\t<tr><td>⋮</td></tr>\n",
       "\t<tr><td>-1970 secs</td></tr>\n",
       "\t<tr><td>-3221 secs</td></tr>\n",
       "\t<tr><td>-2598 secs</td></tr>\n",
       "\t<tr><td>-3330 secs</td></tr>\n",
       "\t<tr><td>-1555 secs</td></tr>\n",
       "\t<tr><td>-2760 secs</td></tr>\n",
       "\t<tr><td>-2190 secs</td></tr>\n",
       "\t<tr><td>-1811 secs</td></tr>\n",
       "\t<tr><td>-2980 secs</td></tr>\n",
       "\t<tr><td>-2763 secs</td></tr>\n",
       "\t<tr><td>-2488 secs</td></tr>\n",
       "\t<tr><td>-2908 secs</td></tr>\n",
       "\t<tr><td>-2137 secs</td></tr>\n",
       "\t<tr><td>-3059 secs</td></tr>\n",
       "\t<tr><td>-3203 secs</td></tr>\n",
       "\t<tr><td>-1805 secs</td></tr>\n",
       "\t<tr><td>-3185 secs</td></tr>\n",
       "\t<tr><td>-2441 secs</td></tr>\n",
       "\t<tr><td>-2870 secs</td></tr>\n",
       "\t<tr><td>-2786 secs</td></tr>\n",
       "\t<tr><td>-1456 secs</td></tr>\n",
       "\t<tr><td>-2277 secs</td></tr>\n",
       "\t<tr><td>-3029 secs</td></tr>\n",
       "\t<tr><td>-1049 secs</td></tr>\n",
       "\t<tr><td>-1093 secs</td></tr>\n",
       "\t<tr><td>-2121 secs</td></tr>\n",
       "\t<tr><td>-1645 secs</td></tr>\n",
       "\t<tr><td>-3027 secs</td></tr>\n",
       "\t<tr><td>-1827 secs</td></tr>\n",
       "\t<tr><td>-3148 secs</td></tr>\n",
       "</tbody>\n",
       "</table>\n"
      ],
      "text/latex": [
       "A tibble: 89 × 1\n",
       "\\begin{tabular}{l}\n",
       " trip\\_duration\\\\\n",
       " <drtn>\\\\\n",
       "\\hline\n",
       "\t  -79 secs\\\\\n",
       "\t -101 secs\\\\\n",
       "\t -108 secs\\\\\n",
       "\t -168 secs\\\\\n",
       "\t -282 secs\\\\\n",
       "\t  -12 secs\\\\\n",
       "\t  -34 secs\\\\\n",
       "\t  -46 secs\\\\\n",
       "\t  -39 secs\\\\\n",
       "\t   -4 secs\\\\\n",
       "\t  -21 secs\\\\\n",
       "\t -143 secs\\\\\n",
       "\t -136 secs\\\\\n",
       "\t  -48 secs\\\\\n",
       "\t  -83 secs\\\\\n",
       "\t  -13 secs\\\\\n",
       "\t -362 secs\\\\\n",
       "\t  -10 secs\\\\\n",
       "\t -119 secs\\\\\n",
       "\t   -6 secs\\\\\n",
       "\t -142 secs\\\\\n",
       "\t  -44 secs\\\\\n",
       "\t  -28 secs\\\\\n",
       "\t   -6 secs\\\\\n",
       "\t -399 secs\\\\\n",
       "\t -243 secs\\\\\n",
       "\t   -5 secs\\\\\n",
       "\t   -8 secs\\\\\n",
       "\t   -7 secs\\\\\n",
       "\t -167 secs\\\\\n",
       "\t ⋮\\\\\n",
       "\t -1970 secs\\\\\n",
       "\t -3221 secs\\\\\n",
       "\t -2598 secs\\\\\n",
       "\t -3330 secs\\\\\n",
       "\t -1555 secs\\\\\n",
       "\t -2760 secs\\\\\n",
       "\t -2190 secs\\\\\n",
       "\t -1811 secs\\\\\n",
       "\t -2980 secs\\\\\n",
       "\t -2763 secs\\\\\n",
       "\t -2488 secs\\\\\n",
       "\t -2908 secs\\\\\n",
       "\t -2137 secs\\\\\n",
       "\t -3059 secs\\\\\n",
       "\t -3203 secs\\\\\n",
       "\t -1805 secs\\\\\n",
       "\t -3185 secs\\\\\n",
       "\t -2441 secs\\\\\n",
       "\t -2870 secs\\\\\n",
       "\t -2786 secs\\\\\n",
       "\t -1456 secs\\\\\n",
       "\t -2277 secs\\\\\n",
       "\t -3029 secs\\\\\n",
       "\t -1049 secs\\\\\n",
       "\t -1093 secs\\\\\n",
       "\t -2121 secs\\\\\n",
       "\t -1645 secs\\\\\n",
       "\t -3027 secs\\\\\n",
       "\t -1827 secs\\\\\n",
       "\t -3148 secs\\\\\n",
       "\\end{tabular}\n"
      ],
      "text/markdown": [
       "\n",
       "A tibble: 89 × 1\n",
       "\n",
       "| trip_duration &lt;drtn&gt; |\n",
       "|---|\n",
       "|  -79 secs |\n",
       "| -101 secs |\n",
       "| -108 secs |\n",
       "| -168 secs |\n",
       "| -282 secs |\n",
       "|  -12 secs |\n",
       "|  -34 secs |\n",
       "|  -46 secs |\n",
       "|  -39 secs |\n",
       "|   -4 secs |\n",
       "|  -21 secs |\n",
       "| -143 secs |\n",
       "| -136 secs |\n",
       "|  -48 secs |\n",
       "|  -83 secs |\n",
       "|  -13 secs |\n",
       "| -362 secs |\n",
       "|  -10 secs |\n",
       "| -119 secs |\n",
       "|   -6 secs |\n",
       "| -142 secs |\n",
       "|  -44 secs |\n",
       "|  -28 secs |\n",
       "|   -6 secs |\n",
       "| -399 secs |\n",
       "| -243 secs |\n",
       "|   -5 secs |\n",
       "|   -8 secs |\n",
       "|   -7 secs |\n",
       "| -167 secs |\n",
       "| ⋮ |\n",
       "| -1970 secs |\n",
       "| -3221 secs |\n",
       "| -2598 secs |\n",
       "| -3330 secs |\n",
       "| -1555 secs |\n",
       "| -2760 secs |\n",
       "| -2190 secs |\n",
       "| -1811 secs |\n",
       "| -2980 secs |\n",
       "| -2763 secs |\n",
       "| -2488 secs |\n",
       "| -2908 secs |\n",
       "| -2137 secs |\n",
       "| -3059 secs |\n",
       "| -3203 secs |\n",
       "| -1805 secs |\n",
       "| -3185 secs |\n",
       "| -2441 secs |\n",
       "| -2870 secs |\n",
       "| -2786 secs |\n",
       "| -1456 secs |\n",
       "| -2277 secs |\n",
       "| -3029 secs |\n",
       "| -1049 secs |\n",
       "| -1093 secs |\n",
       "| -2121 secs |\n",
       "| -1645 secs |\n",
       "| -3027 secs |\n",
       "| -1827 secs |\n",
       "| -3148 secs |\n",
       "\n"
      ],
      "text/plain": [
       "   trip_duration\n",
       "1   -79 secs    \n",
       "2  -101 secs    \n",
       "3  -108 secs    \n",
       "4  -168 secs    \n",
       "5  -282 secs    \n",
       "6   -12 secs    \n",
       "7   -34 secs    \n",
       "8   -46 secs    \n",
       "9   -39 secs    \n",
       "10   -4 secs    \n",
       "11  -21 secs    \n",
       "12 -143 secs    \n",
       "13 -136 secs    \n",
       "14  -48 secs    \n",
       "15  -83 secs    \n",
       "16  -13 secs    \n",
       "17 -362 secs    \n",
       "18  -10 secs    \n",
       "19 -119 secs    \n",
       "20   -6 secs    \n",
       "21 -142 secs    \n",
       "22  -44 secs    \n",
       "23  -28 secs    \n",
       "24   -6 secs    \n",
       "25 -399 secs    \n",
       "26 -243 secs    \n",
       "27   -5 secs    \n",
       "28   -8 secs    \n",
       "29   -7 secs    \n",
       "30 -167 secs    \n",
       "⋮  ⋮            \n",
       "60 -1970 secs   \n",
       "61 -3221 secs   \n",
       "62 -2598 secs   \n",
       "63 -3330 secs   \n",
       "64 -1555 secs   \n",
       "65 -2760 secs   \n",
       "66 -2190 secs   \n",
       "67 -1811 secs   \n",
       "68 -2980 secs   \n",
       "69 -2763 secs   \n",
       "70 -2488 secs   \n",
       "71 -2908 secs   \n",
       "72 -2137 secs   \n",
       "73 -3059 secs   \n",
       "74 -3203 secs   \n",
       "75 -1805 secs   \n",
       "76 -3185 secs   \n",
       "77 -2441 secs   \n",
       "78 -2870 secs   \n",
       "79 -2786 secs   \n",
       "80 -1456 secs   \n",
       "81 -2277 secs   \n",
       "82 -3029 secs   \n",
       "83 -1049 secs   \n",
       "84 -1093 secs   \n",
       "85 -2121 secs   \n",
       "86 -1645 secs   \n",
       "87 -3027 secs   \n",
       "88 -1827 secs   \n",
       "89 -3148 secs   "
      ]
     },
     "metadata": {},
     "output_type": "display_data"
    }
   ],
   "source": [
    "data_04_new%>%select(trip_duration)%>%filter(trip_duration<0)"
   ]
  },
  {
   "cell_type": "code",
   "execution_count": 16,
   "id": "920f4c88-60a5-43c6-afc4-c748239bd2e4",
   "metadata": {},
   "outputs": [
    {
     "data": {
      "text/html": [
       "<table class=\"dataframe\">\n",
       "<caption>A tibble: 4611 × 8</caption>\n",
       "<thead>\n",
       "\t<tr><th scope=col>rideable_type</th><th scope=col>started_at</th><th scope=col>ended_at</th><th scope=col>member_casual</th><th scope=col>trip_duration</th><th scope=col>month</th><th scope=col>weekday</th><th scope=col>hour</th></tr>\n",
       "\t<tr><th scope=col>&lt;chr&gt;</th><th scope=col>&lt;dttm&gt;</th><th scope=col>&lt;dttm&gt;</th><th scope=col>&lt;chr&gt;</th><th scope=col>&lt;drtn&gt;</th><th scope=col>&lt;ord&gt;</th><th scope=col>&lt;ord&gt;</th><th scope=col>&lt;int&gt;</th></tr>\n",
       "</thead>\n",
       "<tbody>\n",
       "\t<tr><td>classic_bike </td><td>2021-01-07 00:31:02</td><td>2021-01-08 01:30:47</td><td>casual</td><td>  89985 secs</td><td>Jan</td><td>Thu</td><td> 0</td></tr>\n",
       "\t<tr><td>classic_bike </td><td>2021-01-09 15:42:45</td><td>2021-01-09 15:41:02</td><td>member</td><td>    -79 secs</td><td>Jan</td><td>Sat</td><td>15</td></tr>\n",
       "\t<tr><td>classic_bike </td><td>2021-01-28 11:30:49</td><td>2021-01-29 12:30:42</td><td>member</td><td>  89993 secs</td><td>Jan</td><td>Thu</td><td>11</td></tr>\n",
       "\t<tr><td>classic_bike </td><td>2021-01-24 00:46:04</td><td>2021-01-25 01:45:59</td><td>casual</td><td>  89995 secs</td><td>Jan</td><td>Sun</td><td> 0</td></tr>\n",
       "\t<tr><td>classic_bike </td><td>2021-01-19 19:52:14</td><td>2021-01-20 20:22:24</td><td>member</td><td>  88210 secs</td><td>Jan</td><td>Tue</td><td>19</td></tr>\n",
       "\t<tr><td>classic_bike </td><td>2021-01-21 17:54:37</td><td>2021-01-22 18:54:26</td><td>member</td><td>  89989 secs</td><td>Jan</td><td>Thu</td><td>17</td></tr>\n",
       "\t<tr><td>classic_bike </td><td>2021-01-16 13:48:56</td><td>2021-01-17 14:48:42</td><td>casual</td><td>  89986 secs</td><td>Jan</td><td>Sat</td><td>13</td></tr>\n",
       "\t<tr><td>classic_bike </td><td>2021-01-18 14:46:47</td><td>2021-01-19 15:46:38</td><td>casual</td><td>  89991 secs</td><td>Jan</td><td>Mon</td><td>14</td></tr>\n",
       "\t<tr><td>classic_bike </td><td>2021-01-18 17:42:02</td><td>2021-01-19 18:41:57</td><td>member</td><td>  89995 secs</td><td>Jan</td><td>Mon</td><td>17</td></tr>\n",
       "\t<tr><td>classic_bike </td><td>2021-01-06 19:07:16</td><td>2021-01-07 20:07:06</td><td>member</td><td>  89990 secs</td><td>Jan</td><td>Wed</td><td>19</td></tr>\n",
       "\t<tr><td>classic_bike </td><td>2021-01-11 16:18:26</td><td>2021-01-12 17:18:07</td><td>casual</td><td>  89981 secs</td><td>Jan</td><td>Mon</td><td>16</td></tr>\n",
       "\t<tr><td>docked_bike  </td><td>2021-01-10 14:52:22</td><td>2021-01-13 09:37:28</td><td>casual</td><td> 240306 secs</td><td>Jan</td><td>Sun</td><td>14</td></tr>\n",
       "\t<tr><td>classic_bike </td><td>2021-01-22 13:55:56</td><td>2021-01-23 14:45:00</td><td>casual</td><td>  89344 secs</td><td>Jan</td><td>Fri</td><td>13</td></tr>\n",
       "\t<tr><td>docked_bike  </td><td>2021-01-05 13:40:47</td><td>2021-01-06 16:53:30</td><td>casual</td><td>  97963 secs</td><td>Jan</td><td>Tue</td><td>13</td></tr>\n",
       "\t<tr><td>docked_bike  </td><td>2021-01-05 10:18:00</td><td>2021-01-07 11:10:06</td><td>casual</td><td> 175926 secs</td><td>Jan</td><td>Tue</td><td>10</td></tr>\n",
       "\t<tr><td>docked_bike  </td><td>2021-01-20 00:23:43</td><td>2021-01-21 14:20:56</td><td>casual</td><td> 136633 secs</td><td>Jan</td><td>Wed</td><td> 0</td></tr>\n",
       "\t<tr><td>classic_bike </td><td>2021-01-21 10:42:41</td><td>2021-01-22 11:42:38</td><td>member</td><td>  89997 secs</td><td>Jan</td><td>Thu</td><td>10</td></tr>\n",
       "\t<tr><td>classic_bike </td><td>2021-01-21 18:54:36</td><td>2021-01-22 19:54:29</td><td>casual</td><td>  89993 secs</td><td>Jan</td><td>Thu</td><td>18</td></tr>\n",
       "\t<tr><td>classic_bike </td><td>2021-01-09 20:51:48</td><td>2021-01-10 21:51:42</td><td>casual</td><td>  89994 secs</td><td>Jan</td><td>Sat</td><td>20</td></tr>\n",
       "\t<tr><td>classic_bike </td><td>2021-01-15 16:40:47</td><td>2021-01-15 16:40:47</td><td>member</td><td>      0 secs</td><td>Jan</td><td>Fri</td><td>16</td></tr>\n",
       "\t<tr><td>electric_bike</td><td>2021-01-06 18:33:12</td><td>2021-01-06 18:31:07</td><td>member</td><td>   -101 secs</td><td>Jan</td><td>Wed</td><td>18</td></tr>\n",
       "\t<tr><td>classic_bike </td><td>2021-01-30 18:07:18</td><td>2021-01-31 18:34:25</td><td>member</td><td>  88027 secs</td><td>Jan</td><td>Sat</td><td>18</td></tr>\n",
       "\t<tr><td>docked_bike  </td><td>2021-01-03 13:17:00</td><td>2021-01-05 12:25:12</td><td>casual</td><td> 169692 secs</td><td>Jan</td><td>Sun</td><td>13</td></tr>\n",
       "\t<tr><td>docked_bike  </td><td>2021-01-13 17:23:43</td><td>2021-01-14 21:08:53</td><td>casual</td><td>  99910 secs</td><td>Jan</td><td>Wed</td><td>17</td></tr>\n",
       "\t<tr><td>docked_bike  </td><td>2021-01-20 00:20:58</td><td>2021-01-21 11:17:55</td><td>casual</td><td> 125817 secs</td><td>Jan</td><td>Wed</td><td> 0</td></tr>\n",
       "\t<tr><td>docked_bike  </td><td>2021-01-02 22:05:08</td><td>2021-01-16 16:31:03</td><td>casual</td><td>1189555 secs</td><td>Jan</td><td>Sat</td><td>22</td></tr>\n",
       "\t<tr><td>docked_bike  </td><td>2021-01-02 15:57:58</td><td>2021-01-03 17:37:11</td><td>casual</td><td>  92353 secs</td><td>Jan</td><td>Sat</td><td>15</td></tr>\n",
       "\t<tr><td>docked_bike  </td><td>2021-01-01 06:00:48</td><td>2021-01-03 19:16:01</td><td>casual</td><td> 220513 secs</td><td>Jan</td><td>Fri</td><td> 6</td></tr>\n",
       "\t<tr><td>classic_bike </td><td>2021-01-29 21:02:41</td><td>2021-01-29 21:02:41</td><td>member</td><td>      0 secs</td><td>Jan</td><td>Fri</td><td>21</td></tr>\n",
       "\t<tr><td>docked_bike  </td><td>2021-01-20 19:57:03</td><td>2021-01-24 15:46:41</td><td>casual</td><td> 330578 secs</td><td>Jan</td><td>Wed</td><td>19</td></tr>\n",
       "\t<tr><td>⋮</td><td>⋮</td><td>⋮</td><td>⋮</td><td>⋮</td><td>⋮</td><td>⋮</td><td>⋮</td></tr>\n",
       "\t<tr><td>docked_bike  </td><td>2021-12-21 12:58:08</td><td>2021-12-22 13:58:10</td><td>casual</td><td>90002 secs</td><td>Dec</td><td>Tue</td><td>12</td></tr>\n",
       "\t<tr><td>classic_bike </td><td>2021-12-16 16:49:10</td><td>2021-12-17 17:49:05</td><td>member</td><td>89995 secs</td><td>Dec</td><td>Thu</td><td>16</td></tr>\n",
       "\t<tr><td>classic_bike </td><td>2021-12-05 02:26:21</td><td>2021-12-06 03:26:08</td><td>member</td><td>89987 secs</td><td>Dec</td><td>Sun</td><td> 2</td></tr>\n",
       "\t<tr><td>classic_bike </td><td>2021-12-04 16:05:27</td><td>2021-12-05 17:05:19</td><td>member</td><td>89992 secs</td><td>Dec</td><td>Sat</td><td>16</td></tr>\n",
       "\t<tr><td>classic_bike </td><td>2021-12-18 22:01:34</td><td>2021-12-19 23:01:26</td><td>member</td><td>89992 secs</td><td>Dec</td><td>Sat</td><td>22</td></tr>\n",
       "\t<tr><td>classic_bike </td><td>2021-12-27 15:43:40</td><td>2021-12-28 16:43:34</td><td>casual</td><td>89994 secs</td><td>Dec</td><td>Mon</td><td>15</td></tr>\n",
       "\t<tr><td>classic_bike </td><td>2021-12-17 20:57:48</td><td>2021-12-18 21:57:42</td><td>member</td><td>89994 secs</td><td>Dec</td><td>Fri</td><td>20</td></tr>\n",
       "\t<tr><td>docked_bike  </td><td>2021-12-14 11:31:03</td><td>2021-12-15 12:31:05</td><td>casual</td><td>90002 secs</td><td>Dec</td><td>Tue</td><td>11</td></tr>\n",
       "\t<tr><td>classic_bike </td><td>2021-12-06 17:30:45</td><td>2021-12-07 18:30:41</td><td>member</td><td>89996 secs</td><td>Dec</td><td>Mon</td><td>17</td></tr>\n",
       "\t<tr><td>docked_bike  </td><td>2021-12-31 16:20:39</td><td>2022-01-01 17:20:39</td><td>casual</td><td>90000 secs</td><td>Dec</td><td>Fri</td><td>16</td></tr>\n",
       "\t<tr><td>classic_bike </td><td>2021-12-24 17:21:52</td><td>2021-12-25 18:21:45</td><td>casual</td><td>89993 secs</td><td>Dec</td><td>Fri</td><td>17</td></tr>\n",
       "\t<tr><td>electric_bike</td><td>2021-12-03 17:10:39</td><td>2021-12-03 17:10:39</td><td>casual</td><td>    0 secs</td><td>Dec</td><td>Fri</td><td>17</td></tr>\n",
       "\t<tr><td>classic_bike </td><td>2021-12-20 15:55:04</td><td>2021-12-21 16:54:53</td><td>casual</td><td>89989 secs</td><td>Dec</td><td>Mon</td><td>15</td></tr>\n",
       "\t<tr><td>classic_bike </td><td>2021-12-13 20:55:35</td><td>2021-12-14 21:55:30</td><td>casual</td><td>89995 secs</td><td>Dec</td><td>Mon</td><td>20</td></tr>\n",
       "\t<tr><td>classic_bike </td><td>2021-12-28 11:15:10</td><td>2021-12-29 12:15:04</td><td>casual</td><td>89994 secs</td><td>Dec</td><td>Tue</td><td>11</td></tr>\n",
       "\t<tr><td>classic_bike </td><td>2021-12-23 16:16:54</td><td>2021-12-24 17:16:50</td><td>casual</td><td>89996 secs</td><td>Dec</td><td>Thu</td><td>16</td></tr>\n",
       "\t<tr><td>classic_bike </td><td>2021-12-28 11:15:34</td><td>2021-12-29 12:15:28</td><td>casual</td><td>89994 secs</td><td>Dec</td><td>Tue</td><td>11</td></tr>\n",
       "\t<tr><td>electric_bike</td><td>2021-12-31 17:24:52</td><td>2021-12-31 17:24:52</td><td>casual</td><td>    0 secs</td><td>Dec</td><td>Fri</td><td>17</td></tr>\n",
       "\t<tr><td>electric_bike</td><td>2021-12-05 11:41:27</td><td>2021-12-05 11:41:27</td><td>member</td><td>    0 secs</td><td>Dec</td><td>Sun</td><td>11</td></tr>\n",
       "\t<tr><td>classic_bike </td><td>2021-12-02 16:01:41</td><td>2021-12-03 17:01:28</td><td>member</td><td>89987 secs</td><td>Dec</td><td>Thu</td><td>16</td></tr>\n",
       "\t<tr><td>classic_bike </td><td>2021-12-13 13:21:54</td><td>2021-12-14 14:21:49</td><td>casual</td><td>89995 secs</td><td>Dec</td><td>Mon</td><td>13</td></tr>\n",
       "\t<tr><td>classic_bike </td><td>2021-12-22 00:30:11</td><td>2021-12-23 01:30:03</td><td>casual</td><td>89992 secs</td><td>Dec</td><td>Wed</td><td> 0</td></tr>\n",
       "\t<tr><td>docked_bike  </td><td>2021-12-31 23:43:37</td><td>2022-01-02 00:43:37</td><td>casual</td><td>90000 secs</td><td>Dec</td><td>Fri</td><td>23</td></tr>\n",
       "\t<tr><td>classic_bike </td><td>2021-12-06 15:34:31</td><td>2021-12-07 16:34:26</td><td>member</td><td>89995 secs</td><td>Dec</td><td>Mon</td><td>15</td></tr>\n",
       "\t<tr><td>docked_bike  </td><td>2021-12-11 12:12:52</td><td>2021-12-12 13:12:52</td><td>casual</td><td>90000 secs</td><td>Dec</td><td>Sat</td><td>12</td></tr>\n",
       "\t<tr><td>electric_bike</td><td>2021-12-03 16:57:36</td><td>2021-12-03 16:57:36</td><td>casual</td><td>    0 secs</td><td>Dec</td><td>Fri</td><td>16</td></tr>\n",
       "\t<tr><td>electric_bike</td><td>2021-12-09 19:01:40</td><td>2021-12-09 19:01:40</td><td>member</td><td>    0 secs</td><td>Dec</td><td>Thu</td><td>19</td></tr>\n",
       "\t<tr><td>classic_bike </td><td>2021-12-05 23:43:26</td><td>2021-12-07 00:43:21</td><td>casual</td><td>89995 secs</td><td>Dec</td><td>Sun</td><td>23</td></tr>\n",
       "\t<tr><td>classic_bike </td><td>2021-12-11 02:35:53</td><td>2021-12-12 03:35:49</td><td>casual</td><td>89996 secs</td><td>Dec</td><td>Sat</td><td> 2</td></tr>\n",
       "\t<tr><td>classic_bike </td><td>2021-12-06 08:52:32</td><td>2021-12-07 09:52:18</td><td>casual</td><td>89986 secs</td><td>Dec</td><td>Mon</td><td> 8</td></tr>\n",
       "</tbody>\n",
       "</table>\n"
      ],
      "text/latex": [
       "A tibble: 4611 × 8\n",
       "\\begin{tabular}{llllllll}\n",
       " rideable\\_type & started\\_at & ended\\_at & member\\_casual & trip\\_duration & month & weekday & hour\\\\\n",
       " <chr> & <dttm> & <dttm> & <chr> & <drtn> & <ord> & <ord> & <int>\\\\\n",
       "\\hline\n",
       "\t classic\\_bike  & 2021-01-07 00:31:02 & 2021-01-08 01:30:47 & casual &   89985 secs & Jan & Thu &  0\\\\\n",
       "\t classic\\_bike  & 2021-01-09 15:42:45 & 2021-01-09 15:41:02 & member &     -79 secs & Jan & Sat & 15\\\\\n",
       "\t classic\\_bike  & 2021-01-28 11:30:49 & 2021-01-29 12:30:42 & member &   89993 secs & Jan & Thu & 11\\\\\n",
       "\t classic\\_bike  & 2021-01-24 00:46:04 & 2021-01-25 01:45:59 & casual &   89995 secs & Jan & Sun &  0\\\\\n",
       "\t classic\\_bike  & 2021-01-19 19:52:14 & 2021-01-20 20:22:24 & member &   88210 secs & Jan & Tue & 19\\\\\n",
       "\t classic\\_bike  & 2021-01-21 17:54:37 & 2021-01-22 18:54:26 & member &   89989 secs & Jan & Thu & 17\\\\\n",
       "\t classic\\_bike  & 2021-01-16 13:48:56 & 2021-01-17 14:48:42 & casual &   89986 secs & Jan & Sat & 13\\\\\n",
       "\t classic\\_bike  & 2021-01-18 14:46:47 & 2021-01-19 15:46:38 & casual &   89991 secs & Jan & Mon & 14\\\\\n",
       "\t classic\\_bike  & 2021-01-18 17:42:02 & 2021-01-19 18:41:57 & member &   89995 secs & Jan & Mon & 17\\\\\n",
       "\t classic\\_bike  & 2021-01-06 19:07:16 & 2021-01-07 20:07:06 & member &   89990 secs & Jan & Wed & 19\\\\\n",
       "\t classic\\_bike  & 2021-01-11 16:18:26 & 2021-01-12 17:18:07 & casual &   89981 secs & Jan & Mon & 16\\\\\n",
       "\t docked\\_bike   & 2021-01-10 14:52:22 & 2021-01-13 09:37:28 & casual &  240306 secs & Jan & Sun & 14\\\\\n",
       "\t classic\\_bike  & 2021-01-22 13:55:56 & 2021-01-23 14:45:00 & casual &   89344 secs & Jan & Fri & 13\\\\\n",
       "\t docked\\_bike   & 2021-01-05 13:40:47 & 2021-01-06 16:53:30 & casual &   97963 secs & Jan & Tue & 13\\\\\n",
       "\t docked\\_bike   & 2021-01-05 10:18:00 & 2021-01-07 11:10:06 & casual &  175926 secs & Jan & Tue & 10\\\\\n",
       "\t docked\\_bike   & 2021-01-20 00:23:43 & 2021-01-21 14:20:56 & casual &  136633 secs & Jan & Wed &  0\\\\\n",
       "\t classic\\_bike  & 2021-01-21 10:42:41 & 2021-01-22 11:42:38 & member &   89997 secs & Jan & Thu & 10\\\\\n",
       "\t classic\\_bike  & 2021-01-21 18:54:36 & 2021-01-22 19:54:29 & casual &   89993 secs & Jan & Thu & 18\\\\\n",
       "\t classic\\_bike  & 2021-01-09 20:51:48 & 2021-01-10 21:51:42 & casual &   89994 secs & Jan & Sat & 20\\\\\n",
       "\t classic\\_bike  & 2021-01-15 16:40:47 & 2021-01-15 16:40:47 & member &       0 secs & Jan & Fri & 16\\\\\n",
       "\t electric\\_bike & 2021-01-06 18:33:12 & 2021-01-06 18:31:07 & member &    -101 secs & Jan & Wed & 18\\\\\n",
       "\t classic\\_bike  & 2021-01-30 18:07:18 & 2021-01-31 18:34:25 & member &   88027 secs & Jan & Sat & 18\\\\\n",
       "\t docked\\_bike   & 2021-01-03 13:17:00 & 2021-01-05 12:25:12 & casual &  169692 secs & Jan & Sun & 13\\\\\n",
       "\t docked\\_bike   & 2021-01-13 17:23:43 & 2021-01-14 21:08:53 & casual &   99910 secs & Jan & Wed & 17\\\\\n",
       "\t docked\\_bike   & 2021-01-20 00:20:58 & 2021-01-21 11:17:55 & casual &  125817 secs & Jan & Wed &  0\\\\\n",
       "\t docked\\_bike   & 2021-01-02 22:05:08 & 2021-01-16 16:31:03 & casual & 1189555 secs & Jan & Sat & 22\\\\\n",
       "\t docked\\_bike   & 2021-01-02 15:57:58 & 2021-01-03 17:37:11 & casual &   92353 secs & Jan & Sat & 15\\\\\n",
       "\t docked\\_bike   & 2021-01-01 06:00:48 & 2021-01-03 19:16:01 & casual &  220513 secs & Jan & Fri &  6\\\\\n",
       "\t classic\\_bike  & 2021-01-29 21:02:41 & 2021-01-29 21:02:41 & member &       0 secs & Jan & Fri & 21\\\\\n",
       "\t docked\\_bike   & 2021-01-20 19:57:03 & 2021-01-24 15:46:41 & casual &  330578 secs & Jan & Wed & 19\\\\\n",
       "\t ⋮ & ⋮ & ⋮ & ⋮ & ⋮ & ⋮ & ⋮ & ⋮\\\\\n",
       "\t docked\\_bike   & 2021-12-21 12:58:08 & 2021-12-22 13:58:10 & casual & 90002 secs & Dec & Tue & 12\\\\\n",
       "\t classic\\_bike  & 2021-12-16 16:49:10 & 2021-12-17 17:49:05 & member & 89995 secs & Dec & Thu & 16\\\\\n",
       "\t classic\\_bike  & 2021-12-05 02:26:21 & 2021-12-06 03:26:08 & member & 89987 secs & Dec & Sun &  2\\\\\n",
       "\t classic\\_bike  & 2021-12-04 16:05:27 & 2021-12-05 17:05:19 & member & 89992 secs & Dec & Sat & 16\\\\\n",
       "\t classic\\_bike  & 2021-12-18 22:01:34 & 2021-12-19 23:01:26 & member & 89992 secs & Dec & Sat & 22\\\\\n",
       "\t classic\\_bike  & 2021-12-27 15:43:40 & 2021-12-28 16:43:34 & casual & 89994 secs & Dec & Mon & 15\\\\\n",
       "\t classic\\_bike  & 2021-12-17 20:57:48 & 2021-12-18 21:57:42 & member & 89994 secs & Dec & Fri & 20\\\\\n",
       "\t docked\\_bike   & 2021-12-14 11:31:03 & 2021-12-15 12:31:05 & casual & 90002 secs & Dec & Tue & 11\\\\\n",
       "\t classic\\_bike  & 2021-12-06 17:30:45 & 2021-12-07 18:30:41 & member & 89996 secs & Dec & Mon & 17\\\\\n",
       "\t docked\\_bike   & 2021-12-31 16:20:39 & 2022-01-01 17:20:39 & casual & 90000 secs & Dec & Fri & 16\\\\\n",
       "\t classic\\_bike  & 2021-12-24 17:21:52 & 2021-12-25 18:21:45 & casual & 89993 secs & Dec & Fri & 17\\\\\n",
       "\t electric\\_bike & 2021-12-03 17:10:39 & 2021-12-03 17:10:39 & casual &     0 secs & Dec & Fri & 17\\\\\n",
       "\t classic\\_bike  & 2021-12-20 15:55:04 & 2021-12-21 16:54:53 & casual & 89989 secs & Dec & Mon & 15\\\\\n",
       "\t classic\\_bike  & 2021-12-13 20:55:35 & 2021-12-14 21:55:30 & casual & 89995 secs & Dec & Mon & 20\\\\\n",
       "\t classic\\_bike  & 2021-12-28 11:15:10 & 2021-12-29 12:15:04 & casual & 89994 secs & Dec & Tue & 11\\\\\n",
       "\t classic\\_bike  & 2021-12-23 16:16:54 & 2021-12-24 17:16:50 & casual & 89996 secs & Dec & Thu & 16\\\\\n",
       "\t classic\\_bike  & 2021-12-28 11:15:34 & 2021-12-29 12:15:28 & casual & 89994 secs & Dec & Tue & 11\\\\\n",
       "\t electric\\_bike & 2021-12-31 17:24:52 & 2021-12-31 17:24:52 & casual &     0 secs & Dec & Fri & 17\\\\\n",
       "\t electric\\_bike & 2021-12-05 11:41:27 & 2021-12-05 11:41:27 & member &     0 secs & Dec & Sun & 11\\\\\n",
       "\t classic\\_bike  & 2021-12-02 16:01:41 & 2021-12-03 17:01:28 & member & 89987 secs & Dec & Thu & 16\\\\\n",
       "\t classic\\_bike  & 2021-12-13 13:21:54 & 2021-12-14 14:21:49 & casual & 89995 secs & Dec & Mon & 13\\\\\n",
       "\t classic\\_bike  & 2021-12-22 00:30:11 & 2021-12-23 01:30:03 & casual & 89992 secs & Dec & Wed &  0\\\\\n",
       "\t docked\\_bike   & 2021-12-31 23:43:37 & 2022-01-02 00:43:37 & casual & 90000 secs & Dec & Fri & 23\\\\\n",
       "\t classic\\_bike  & 2021-12-06 15:34:31 & 2021-12-07 16:34:26 & member & 89995 secs & Dec & Mon & 15\\\\\n",
       "\t docked\\_bike   & 2021-12-11 12:12:52 & 2021-12-12 13:12:52 & casual & 90000 secs & Dec & Sat & 12\\\\\n",
       "\t electric\\_bike & 2021-12-03 16:57:36 & 2021-12-03 16:57:36 & casual &     0 secs & Dec & Fri & 16\\\\\n",
       "\t electric\\_bike & 2021-12-09 19:01:40 & 2021-12-09 19:01:40 & member &     0 secs & Dec & Thu & 19\\\\\n",
       "\t classic\\_bike  & 2021-12-05 23:43:26 & 2021-12-07 00:43:21 & casual & 89995 secs & Dec & Sun & 23\\\\\n",
       "\t classic\\_bike  & 2021-12-11 02:35:53 & 2021-12-12 03:35:49 & casual & 89996 secs & Dec & Sat &  2\\\\\n",
       "\t classic\\_bike  & 2021-12-06 08:52:32 & 2021-12-07 09:52:18 & casual & 89986 secs & Dec & Mon &  8\\\\\n",
       "\\end{tabular}\n"
      ],
      "text/markdown": [
       "\n",
       "A tibble: 4611 × 8\n",
       "\n",
       "| rideable_type &lt;chr&gt; | started_at &lt;dttm&gt; | ended_at &lt;dttm&gt; | member_casual &lt;chr&gt; | trip_duration &lt;drtn&gt; | month &lt;ord&gt; | weekday &lt;ord&gt; | hour &lt;int&gt; |\n",
       "|---|---|---|---|---|---|---|---|\n",
       "| classic_bike  | 2021-01-07 00:31:02 | 2021-01-08 01:30:47 | casual |   89985 secs | Jan | Thu |  0 |\n",
       "| classic_bike  | 2021-01-09 15:42:45 | 2021-01-09 15:41:02 | member |     -79 secs | Jan | Sat | 15 |\n",
       "| classic_bike  | 2021-01-28 11:30:49 | 2021-01-29 12:30:42 | member |   89993 secs | Jan | Thu | 11 |\n",
       "| classic_bike  | 2021-01-24 00:46:04 | 2021-01-25 01:45:59 | casual |   89995 secs | Jan | Sun |  0 |\n",
       "| classic_bike  | 2021-01-19 19:52:14 | 2021-01-20 20:22:24 | member |   88210 secs | Jan | Tue | 19 |\n",
       "| classic_bike  | 2021-01-21 17:54:37 | 2021-01-22 18:54:26 | member |   89989 secs | Jan | Thu | 17 |\n",
       "| classic_bike  | 2021-01-16 13:48:56 | 2021-01-17 14:48:42 | casual |   89986 secs | Jan | Sat | 13 |\n",
       "| classic_bike  | 2021-01-18 14:46:47 | 2021-01-19 15:46:38 | casual |   89991 secs | Jan | Mon | 14 |\n",
       "| classic_bike  | 2021-01-18 17:42:02 | 2021-01-19 18:41:57 | member |   89995 secs | Jan | Mon | 17 |\n",
       "| classic_bike  | 2021-01-06 19:07:16 | 2021-01-07 20:07:06 | member |   89990 secs | Jan | Wed | 19 |\n",
       "| classic_bike  | 2021-01-11 16:18:26 | 2021-01-12 17:18:07 | casual |   89981 secs | Jan | Mon | 16 |\n",
       "| docked_bike   | 2021-01-10 14:52:22 | 2021-01-13 09:37:28 | casual |  240306 secs | Jan | Sun | 14 |\n",
       "| classic_bike  | 2021-01-22 13:55:56 | 2021-01-23 14:45:00 | casual |   89344 secs | Jan | Fri | 13 |\n",
       "| docked_bike   | 2021-01-05 13:40:47 | 2021-01-06 16:53:30 | casual |   97963 secs | Jan | Tue | 13 |\n",
       "| docked_bike   | 2021-01-05 10:18:00 | 2021-01-07 11:10:06 | casual |  175926 secs | Jan | Tue | 10 |\n",
       "| docked_bike   | 2021-01-20 00:23:43 | 2021-01-21 14:20:56 | casual |  136633 secs | Jan | Wed |  0 |\n",
       "| classic_bike  | 2021-01-21 10:42:41 | 2021-01-22 11:42:38 | member |   89997 secs | Jan | Thu | 10 |\n",
       "| classic_bike  | 2021-01-21 18:54:36 | 2021-01-22 19:54:29 | casual |   89993 secs | Jan | Thu | 18 |\n",
       "| classic_bike  | 2021-01-09 20:51:48 | 2021-01-10 21:51:42 | casual |   89994 secs | Jan | Sat | 20 |\n",
       "| classic_bike  | 2021-01-15 16:40:47 | 2021-01-15 16:40:47 | member |       0 secs | Jan | Fri | 16 |\n",
       "| electric_bike | 2021-01-06 18:33:12 | 2021-01-06 18:31:07 | member |    -101 secs | Jan | Wed | 18 |\n",
       "| classic_bike  | 2021-01-30 18:07:18 | 2021-01-31 18:34:25 | member |   88027 secs | Jan | Sat | 18 |\n",
       "| docked_bike   | 2021-01-03 13:17:00 | 2021-01-05 12:25:12 | casual |  169692 secs | Jan | Sun | 13 |\n",
       "| docked_bike   | 2021-01-13 17:23:43 | 2021-01-14 21:08:53 | casual |   99910 secs | Jan | Wed | 17 |\n",
       "| docked_bike   | 2021-01-20 00:20:58 | 2021-01-21 11:17:55 | casual |  125817 secs | Jan | Wed |  0 |\n",
       "| docked_bike   | 2021-01-02 22:05:08 | 2021-01-16 16:31:03 | casual | 1189555 secs | Jan | Sat | 22 |\n",
       "| docked_bike   | 2021-01-02 15:57:58 | 2021-01-03 17:37:11 | casual |   92353 secs | Jan | Sat | 15 |\n",
       "| docked_bike   | 2021-01-01 06:00:48 | 2021-01-03 19:16:01 | casual |  220513 secs | Jan | Fri |  6 |\n",
       "| classic_bike  | 2021-01-29 21:02:41 | 2021-01-29 21:02:41 | member |       0 secs | Jan | Fri | 21 |\n",
       "| docked_bike   | 2021-01-20 19:57:03 | 2021-01-24 15:46:41 | casual |  330578 secs | Jan | Wed | 19 |\n",
       "| ⋮ | ⋮ | ⋮ | ⋮ | ⋮ | ⋮ | ⋮ | ⋮ |\n",
       "| docked_bike   | 2021-12-21 12:58:08 | 2021-12-22 13:58:10 | casual | 90002 secs | Dec | Tue | 12 |\n",
       "| classic_bike  | 2021-12-16 16:49:10 | 2021-12-17 17:49:05 | member | 89995 secs | Dec | Thu | 16 |\n",
       "| classic_bike  | 2021-12-05 02:26:21 | 2021-12-06 03:26:08 | member | 89987 secs | Dec | Sun |  2 |\n",
       "| classic_bike  | 2021-12-04 16:05:27 | 2021-12-05 17:05:19 | member | 89992 secs | Dec | Sat | 16 |\n",
       "| classic_bike  | 2021-12-18 22:01:34 | 2021-12-19 23:01:26 | member | 89992 secs | Dec | Sat | 22 |\n",
       "| classic_bike  | 2021-12-27 15:43:40 | 2021-12-28 16:43:34 | casual | 89994 secs | Dec | Mon | 15 |\n",
       "| classic_bike  | 2021-12-17 20:57:48 | 2021-12-18 21:57:42 | member | 89994 secs | Dec | Fri | 20 |\n",
       "| docked_bike   | 2021-12-14 11:31:03 | 2021-12-15 12:31:05 | casual | 90002 secs | Dec | Tue | 11 |\n",
       "| classic_bike  | 2021-12-06 17:30:45 | 2021-12-07 18:30:41 | member | 89996 secs | Dec | Mon | 17 |\n",
       "| docked_bike   | 2021-12-31 16:20:39 | 2022-01-01 17:20:39 | casual | 90000 secs | Dec | Fri | 16 |\n",
       "| classic_bike  | 2021-12-24 17:21:52 | 2021-12-25 18:21:45 | casual | 89993 secs | Dec | Fri | 17 |\n",
       "| electric_bike | 2021-12-03 17:10:39 | 2021-12-03 17:10:39 | casual |     0 secs | Dec | Fri | 17 |\n",
       "| classic_bike  | 2021-12-20 15:55:04 | 2021-12-21 16:54:53 | casual | 89989 secs | Dec | Mon | 15 |\n",
       "| classic_bike  | 2021-12-13 20:55:35 | 2021-12-14 21:55:30 | casual | 89995 secs | Dec | Mon | 20 |\n",
       "| classic_bike  | 2021-12-28 11:15:10 | 2021-12-29 12:15:04 | casual | 89994 secs | Dec | Tue | 11 |\n",
       "| classic_bike  | 2021-12-23 16:16:54 | 2021-12-24 17:16:50 | casual | 89996 secs | Dec | Thu | 16 |\n",
       "| classic_bike  | 2021-12-28 11:15:34 | 2021-12-29 12:15:28 | casual | 89994 secs | Dec | Tue | 11 |\n",
       "| electric_bike | 2021-12-31 17:24:52 | 2021-12-31 17:24:52 | casual |     0 secs | Dec | Fri | 17 |\n",
       "| electric_bike | 2021-12-05 11:41:27 | 2021-12-05 11:41:27 | member |     0 secs | Dec | Sun | 11 |\n",
       "| classic_bike  | 2021-12-02 16:01:41 | 2021-12-03 17:01:28 | member | 89987 secs | Dec | Thu | 16 |\n",
       "| classic_bike  | 2021-12-13 13:21:54 | 2021-12-14 14:21:49 | casual | 89995 secs | Dec | Mon | 13 |\n",
       "| classic_bike  | 2021-12-22 00:30:11 | 2021-12-23 01:30:03 | casual | 89992 secs | Dec | Wed |  0 |\n",
       "| docked_bike   | 2021-12-31 23:43:37 | 2022-01-02 00:43:37 | casual | 90000 secs | Dec | Fri | 23 |\n",
       "| classic_bike  | 2021-12-06 15:34:31 | 2021-12-07 16:34:26 | member | 89995 secs | Dec | Mon | 15 |\n",
       "| docked_bike   | 2021-12-11 12:12:52 | 2021-12-12 13:12:52 | casual | 90000 secs | Dec | Sat | 12 |\n",
       "| electric_bike | 2021-12-03 16:57:36 | 2021-12-03 16:57:36 | casual |     0 secs | Dec | Fri | 16 |\n",
       "| electric_bike | 2021-12-09 19:01:40 | 2021-12-09 19:01:40 | member |     0 secs | Dec | Thu | 19 |\n",
       "| classic_bike  | 2021-12-05 23:43:26 | 2021-12-07 00:43:21 | casual | 89995 secs | Dec | Sun | 23 |\n",
       "| classic_bike  | 2021-12-11 02:35:53 | 2021-12-12 03:35:49 | casual | 89996 secs | Dec | Sat |  2 |\n",
       "| classic_bike  | 2021-12-06 08:52:32 | 2021-12-07 09:52:18 | casual | 89986 secs | Dec | Mon |  8 |\n",
       "\n"
      ],
      "text/plain": [
       "     rideable_type started_at          ended_at            member_casual\n",
       "1    classic_bike  2021-01-07 00:31:02 2021-01-08 01:30:47 casual       \n",
       "2    classic_bike  2021-01-09 15:42:45 2021-01-09 15:41:02 member       \n",
       "3    classic_bike  2021-01-28 11:30:49 2021-01-29 12:30:42 member       \n",
       "4    classic_bike  2021-01-24 00:46:04 2021-01-25 01:45:59 casual       \n",
       "5    classic_bike  2021-01-19 19:52:14 2021-01-20 20:22:24 member       \n",
       "6    classic_bike  2021-01-21 17:54:37 2021-01-22 18:54:26 member       \n",
       "7    classic_bike  2021-01-16 13:48:56 2021-01-17 14:48:42 casual       \n",
       "8    classic_bike  2021-01-18 14:46:47 2021-01-19 15:46:38 casual       \n",
       "9    classic_bike  2021-01-18 17:42:02 2021-01-19 18:41:57 member       \n",
       "10   classic_bike  2021-01-06 19:07:16 2021-01-07 20:07:06 member       \n",
       "11   classic_bike  2021-01-11 16:18:26 2021-01-12 17:18:07 casual       \n",
       "12   docked_bike   2021-01-10 14:52:22 2021-01-13 09:37:28 casual       \n",
       "13   classic_bike  2021-01-22 13:55:56 2021-01-23 14:45:00 casual       \n",
       "14   docked_bike   2021-01-05 13:40:47 2021-01-06 16:53:30 casual       \n",
       "15   docked_bike   2021-01-05 10:18:00 2021-01-07 11:10:06 casual       \n",
       "16   docked_bike   2021-01-20 00:23:43 2021-01-21 14:20:56 casual       \n",
       "17   classic_bike  2021-01-21 10:42:41 2021-01-22 11:42:38 member       \n",
       "18   classic_bike  2021-01-21 18:54:36 2021-01-22 19:54:29 casual       \n",
       "19   classic_bike  2021-01-09 20:51:48 2021-01-10 21:51:42 casual       \n",
       "20   classic_bike  2021-01-15 16:40:47 2021-01-15 16:40:47 member       \n",
       "21   electric_bike 2021-01-06 18:33:12 2021-01-06 18:31:07 member       \n",
       "22   classic_bike  2021-01-30 18:07:18 2021-01-31 18:34:25 member       \n",
       "23   docked_bike   2021-01-03 13:17:00 2021-01-05 12:25:12 casual       \n",
       "24   docked_bike   2021-01-13 17:23:43 2021-01-14 21:08:53 casual       \n",
       "25   docked_bike   2021-01-20 00:20:58 2021-01-21 11:17:55 casual       \n",
       "26   docked_bike   2021-01-02 22:05:08 2021-01-16 16:31:03 casual       \n",
       "27   docked_bike   2021-01-02 15:57:58 2021-01-03 17:37:11 casual       \n",
       "28   docked_bike   2021-01-01 06:00:48 2021-01-03 19:16:01 casual       \n",
       "29   classic_bike  2021-01-29 21:02:41 2021-01-29 21:02:41 member       \n",
       "30   docked_bike   2021-01-20 19:57:03 2021-01-24 15:46:41 casual       \n",
       "⋮    ⋮             ⋮                   ⋮                   ⋮            \n",
       "4582 docked_bike   2021-12-21 12:58:08 2021-12-22 13:58:10 casual       \n",
       "4583 classic_bike  2021-12-16 16:49:10 2021-12-17 17:49:05 member       \n",
       "4584 classic_bike  2021-12-05 02:26:21 2021-12-06 03:26:08 member       \n",
       "4585 classic_bike  2021-12-04 16:05:27 2021-12-05 17:05:19 member       \n",
       "4586 classic_bike  2021-12-18 22:01:34 2021-12-19 23:01:26 member       \n",
       "4587 classic_bike  2021-12-27 15:43:40 2021-12-28 16:43:34 casual       \n",
       "4588 classic_bike  2021-12-17 20:57:48 2021-12-18 21:57:42 member       \n",
       "4589 docked_bike   2021-12-14 11:31:03 2021-12-15 12:31:05 casual       \n",
       "4590 classic_bike  2021-12-06 17:30:45 2021-12-07 18:30:41 member       \n",
       "4591 docked_bike   2021-12-31 16:20:39 2022-01-01 17:20:39 casual       \n",
       "4592 classic_bike  2021-12-24 17:21:52 2021-12-25 18:21:45 casual       \n",
       "4593 electric_bike 2021-12-03 17:10:39 2021-12-03 17:10:39 casual       \n",
       "4594 classic_bike  2021-12-20 15:55:04 2021-12-21 16:54:53 casual       \n",
       "4595 classic_bike  2021-12-13 20:55:35 2021-12-14 21:55:30 casual       \n",
       "4596 classic_bike  2021-12-28 11:15:10 2021-12-29 12:15:04 casual       \n",
       "4597 classic_bike  2021-12-23 16:16:54 2021-12-24 17:16:50 casual       \n",
       "4598 classic_bike  2021-12-28 11:15:34 2021-12-29 12:15:28 casual       \n",
       "4599 electric_bike 2021-12-31 17:24:52 2021-12-31 17:24:52 casual       \n",
       "4600 electric_bike 2021-12-05 11:41:27 2021-12-05 11:41:27 member       \n",
       "4601 classic_bike  2021-12-02 16:01:41 2021-12-03 17:01:28 member       \n",
       "4602 classic_bike  2021-12-13 13:21:54 2021-12-14 14:21:49 casual       \n",
       "4603 classic_bike  2021-12-22 00:30:11 2021-12-23 01:30:03 casual       \n",
       "4604 docked_bike   2021-12-31 23:43:37 2022-01-02 00:43:37 casual       \n",
       "4605 classic_bike  2021-12-06 15:34:31 2021-12-07 16:34:26 member       \n",
       "4606 docked_bike   2021-12-11 12:12:52 2021-12-12 13:12:52 casual       \n",
       "4607 electric_bike 2021-12-03 16:57:36 2021-12-03 16:57:36 casual       \n",
       "4608 electric_bike 2021-12-09 19:01:40 2021-12-09 19:01:40 member       \n",
       "4609 classic_bike  2021-12-05 23:43:26 2021-12-07 00:43:21 casual       \n",
       "4610 classic_bike  2021-12-11 02:35:53 2021-12-12 03:35:49 casual       \n",
       "4611 classic_bike  2021-12-06 08:52:32 2021-12-07 09:52:18 casual       \n",
       "     trip_duration month weekday hour\n",
       "1      89985 secs  Jan   Thu      0  \n",
       "2        -79 secs  Jan   Sat     15  \n",
       "3      89993 secs  Jan   Thu     11  \n",
       "4      89995 secs  Jan   Sun      0  \n",
       "5      88210 secs  Jan   Tue     19  \n",
       "6      89989 secs  Jan   Thu     17  \n",
       "7      89986 secs  Jan   Sat     13  \n",
       "8      89991 secs  Jan   Mon     14  \n",
       "9      89995 secs  Jan   Mon     17  \n",
       "10     89990 secs  Jan   Wed     19  \n",
       "11     89981 secs  Jan   Mon     16  \n",
       "12    240306 secs  Jan   Sun     14  \n",
       "13     89344 secs  Jan   Fri     13  \n",
       "14     97963 secs  Jan   Tue     13  \n",
       "15    175926 secs  Jan   Tue     10  \n",
       "16    136633 secs  Jan   Wed      0  \n",
       "17     89997 secs  Jan   Thu     10  \n",
       "18     89993 secs  Jan   Thu     18  \n",
       "19     89994 secs  Jan   Sat     20  \n",
       "20         0 secs  Jan   Fri     16  \n",
       "21      -101 secs  Jan   Wed     18  \n",
       "22     88027 secs  Jan   Sat     18  \n",
       "23    169692 secs  Jan   Sun     13  \n",
       "24     99910 secs  Jan   Wed     17  \n",
       "25    125817 secs  Jan   Wed      0  \n",
       "26   1189555 secs  Jan   Sat     22  \n",
       "27     92353 secs  Jan   Sat     15  \n",
       "28    220513 secs  Jan   Fri      6  \n",
       "29         0 secs  Jan   Fri     21  \n",
       "30    330578 secs  Jan   Wed     19  \n",
       "⋮    ⋮             ⋮     ⋮       ⋮   \n",
       "4582 90002 secs    Dec   Tue     12  \n",
       "4583 89995 secs    Dec   Thu     16  \n",
       "4584 89987 secs    Dec   Sun      2  \n",
       "4585 89992 secs    Dec   Sat     16  \n",
       "4586 89992 secs    Dec   Sat     22  \n",
       "4587 89994 secs    Dec   Mon     15  \n",
       "4588 89994 secs    Dec   Fri     20  \n",
       "4589 90002 secs    Dec   Tue     11  \n",
       "4590 89996 secs    Dec   Mon     17  \n",
       "4591 90000 secs    Dec   Fri     16  \n",
       "4592 89993 secs    Dec   Fri     17  \n",
       "4593     0 secs    Dec   Fri     17  \n",
       "4594 89989 secs    Dec   Mon     15  \n",
       "4595 89995 secs    Dec   Mon     20  \n",
       "4596 89994 secs    Dec   Tue     11  \n",
       "4597 89996 secs    Dec   Thu     16  \n",
       "4598 89994 secs    Dec   Tue     11  \n",
       "4599     0 secs    Dec   Fri     17  \n",
       "4600     0 secs    Dec   Sun     11  \n",
       "4601 89987 secs    Dec   Thu     16  \n",
       "4602 89995 secs    Dec   Mon     13  \n",
       "4603 89992 secs    Dec   Wed      0  \n",
       "4604 90000 secs    Dec   Fri     23  \n",
       "4605 89995 secs    Dec   Mon     15  \n",
       "4606 90000 secs    Dec   Sat     12  \n",
       "4607     0 secs    Dec   Fri     16  \n",
       "4608     0 secs    Dec   Thu     19  \n",
       "4609 89995 secs    Dec   Sun     23  \n",
       "4610 89996 secs    Dec   Sat      2  \n",
       "4611 89986 secs    Dec   Mon      8  "
      ]
     },
     "metadata": {},
     "output_type": "display_data"
    }
   ],
   "source": [
    "data_04_new%>%filter(trip_duration<=0 | trip_duration>86400)\n"
   ]
  },
  {
   "cell_type": "code",
   "execution_count": 17,
   "id": "de57087f-3f9a-4808-b5a5-1424c873e56f",
   "metadata": {},
   "outputs": [],
   "source": [
    "#If you observe in the above code there are 4611 rows in the data in which trip-duration is either less than or equal to zero seconds or greater than 86400 seconds(one full day),which are impossible in this company.\n",
    "# so in this code i  will remove these records from data.\n",
    "data_05_new<-data_04_new%>%filter(trip_duration>0 & trip_duration<86400)"
   ]
  },
  {
   "cell_type": "code",
   "execution_count": 18,
   "id": "a3d31374-aa2c-467e-ac59-42ea7ef51450",
   "metadata": {},
   "outputs": [
    {
     "name": "stdout",
     "output_type": "stream",
     "text": [
      "Rows: 5,589,725\n",
      "Columns: 8\n",
      "$ rideable_type \u001b[3m\u001b[90m<chr>\u001b[39m\u001b[23m \"electric_bike\", \"electric_bike\", \"electric_bike\", \"elec…\n",
      "$ started_at    \u001b[3m\u001b[90m<dttm>\u001b[39m\u001b[23m 2021-01-23 16:14:19, 2021-01-27 18:43:08, 2021-01-21 22…\n",
      "$ ended_at      \u001b[3m\u001b[90m<dttm>\u001b[39m\u001b[23m 2021-01-23 16:24:44, 2021-01-27 18:47:12, 2021-01-21 22…\n",
      "$ member_casual \u001b[3m\u001b[90m<chr>\u001b[39m\u001b[23m \"member\", \"member\", \"member\", \"member\", \"casual\", \"casua…\n",
      "$ trip_duration \u001b[3m\u001b[90m<drtn>\u001b[39m\u001b[23m 625 secs, 244 secs, 80 secs, 702 secs, 43 secs, 3227 se…\n",
      "$ month         \u001b[3m\u001b[90m<ord>\u001b[39m\u001b[23m Jan, Jan, Jan, Jan, Jan, Jan, Jan, Jan, Jan, Jan, Jan, J…\n",
      "$ weekday       \u001b[3m\u001b[90m<ord>\u001b[39m\u001b[23m Sat, Wed, Thu, Thu, Sat, Sat, Mon, Thu, Sat, Sun, Sat, S…\n",
      "$ hour          \u001b[3m\u001b[90m<int>\u001b[39m\u001b[23m 16, 18, 22, 13, 2, 14, 5, 15, 9, 19, 12, 15, 15, 15, 15,…\n"
     ]
    }
   ],
   "source": [
    "glimpse(data_05_new)"
   ]
  },
  {
   "cell_type": "markdown",
   "id": "fd78d72a-3f4c-468a-abc9-1898849825f0",
   "metadata": {},
   "source": [
    "## Calculating Ride Counts and Visualizing with Pie Chart\n",
    "\n",
    "Now in this code, I will first calculate the number of rides taken by members and casual riders.  \n",
    "Then, I will create a pie chart to show what percentage of the total rides were taken by casual riders and what percentage by members."
   ]
  },
  {
   "cell_type": "code",
   "execution_count": 19,
   "id": "69180f72-c1c7-4745-a91f-26ad59e665e2",
   "metadata": {},
   "outputs": [],
   "source": [
    "data_06_new<-data_05_new%>%group_by(member_casual)%>%summarise(number_of_rides=n(),.groups=\"drop\")%>%arrange(member_casual)"
   ]
  },
  {
   "cell_type": "code",
   "execution_count": 20,
   "id": "8af514d8-4be4-463a-bbfa-dc50e7ee171d",
   "metadata": {},
   "outputs": [
    {
     "data": {
      "text/html": [
       "<table class=\"dataframe\">\n",
       "<caption>A tibble: 2 × 2</caption>\n",
       "<thead>\n",
       "\t<tr><th scope=col>member_casual</th><th scope=col>number_of_rides</th></tr>\n",
       "\t<tr><th scope=col>&lt;chr&gt;</th><th scope=col>&lt;int&gt;</th></tr>\n",
       "</thead>\n",
       "<tbody>\n",
       "\t<tr><td>casual</td><td>2524780</td></tr>\n",
       "\t<tr><td>member</td><td>3064945</td></tr>\n",
       "</tbody>\n",
       "</table>\n"
      ],
      "text/latex": [
       "A tibble: 2 × 2\n",
       "\\begin{tabular}{ll}\n",
       " member\\_casual & number\\_of\\_rides\\\\\n",
       " <chr> & <int>\\\\\n",
       "\\hline\n",
       "\t casual & 2524780\\\\\n",
       "\t member & 3064945\\\\\n",
       "\\end{tabular}\n"
      ],
      "text/markdown": [
       "\n",
       "A tibble: 2 × 2\n",
       "\n",
       "| member_casual &lt;chr&gt; | number_of_rides &lt;int&gt; |\n",
       "|---|---|\n",
       "| casual | 2524780 |\n",
       "| member | 3064945 |\n",
       "\n"
      ],
      "text/plain": [
       "  member_casual number_of_rides\n",
       "1 casual        2524780        \n",
       "2 member        3064945        "
      ]
     },
     "metadata": {},
     "output_type": "display_data"
    }
   ],
   "source": [
    "data_06_new"
   ]
  },
  {
   "cell_type": "code",
   "execution_count": 21,
   "id": "aca2d85a-a824-4531-9d05-37beeeed41e1",
   "metadata": {},
   "outputs": [
    {
     "data": {
      "text/html": [
       "<table class=\"dataframe\">\n",
       "<caption>A tibble: 2 × 4</caption>\n",
       "<thead>\n",
       "\t<tr><th scope=col>member_casual</th><th scope=col>number_of_rides</th><th scope=col>percentage</th><th scope=col>label</th></tr>\n",
       "\t<tr><th scope=col>&lt;chr&gt;</th><th scope=col>&lt;int&gt;</th><th scope=col>&lt;dbl&gt;</th><th scope=col>&lt;chr&gt;</th></tr>\n",
       "</thead>\n",
       "<tbody>\n",
       "\t<tr><td>casual</td><td>2524780</td><td>45.16823</td><td>casual 45.2 %</td></tr>\n",
       "\t<tr><td>member</td><td>3064945</td><td>54.83177</td><td>member 54.8 %</td></tr>\n",
       "</tbody>\n",
       "</table>\n"
      ],
      "text/latex": [
       "A tibble: 2 × 4\n",
       "\\begin{tabular}{llll}\n",
       " member\\_casual & number\\_of\\_rides & percentage & label\\\\\n",
       " <chr> & <int> & <dbl> & <chr>\\\\\n",
       "\\hline\n",
       "\t casual & 2524780 & 45.16823 & casual 45.2 \\%\\\\\n",
       "\t member & 3064945 & 54.83177 & member 54.8 \\%\\\\\n",
       "\\end{tabular}\n"
      ],
      "text/markdown": [
       "\n",
       "A tibble: 2 × 4\n",
       "\n",
       "| member_casual &lt;chr&gt; | number_of_rides &lt;int&gt; | percentage &lt;dbl&gt; | label &lt;chr&gt; |\n",
       "|---|---|---|---|\n",
       "| casual | 2524780 | 45.16823 | casual 45.2 % |\n",
       "| member | 3064945 | 54.83177 | member 54.8 % |\n",
       "\n"
      ],
      "text/plain": [
       "  member_casual number_of_rides percentage label        \n",
       "1 casual        2524780         45.16823   casual 45.2 %\n",
       "2 member        3064945         54.83177   member 54.8 %"
      ]
     },
     "metadata": {},
     "output_type": "display_data"
    },
    {
     "data": {
      "image/png": "[encoded data removed]",
      "text/plain": [
       "plot without title"
      ]
     },
     "metadata": {
      "image/png": {
       "height": 420,
       "width": 420
      }
     },
     "output_type": "display_data"
    }
   ],
   "source": [
    "data_07_new <- data_06_new %>%\n",
    "  mutate(\n",
    "    percentage = number_of_rides / sum(number_of_rides) * 100,\n",
    "    label = paste(member_casual, round(percentage, 1), \"%\")\n",
    "  )\n",
    "data_07_new\n",
    "# Create pie chart\n",
    "ggplot(data_07_new, aes(x = \"\", y = number_of_rides, fill = member_casual)) +\n",
    "  geom_col(width = 1, color = \"white\") +\n",
    "  coord_polar(theta = \"y\") +  # make it a pie chart\n",
    "  geom_text(aes(label = label), position = position_stack(vjust = 0.5)) +\n",
    "  labs(title = \"Number Of Rides Member Vs Casual\") +\n",
    "  theme_void()"
   ]
  },
  {
   "cell_type": "markdown",
   "id": "d34c3f12-a887-40d5-8d70-f41765ea3077",
   "metadata": {},
   "source": [
    "###  Insight 1: Ride Distribution by User Type\r",
    "According to above pie chart **45.2%** of total number of rides were taken by member while 45.2% by casual riders which is less as compared to member riders but not by huge margin.it means casual riders already  using the service quite alot which is good sign for the company and it will be very beneficial for the company to convert casual riders into members which is possible by using right marketing strategy."
   ]
  },
  {
   "cell_type": "markdown",
   "id": "097e25c0-c84f-41d8-9250-d43a943eb099",
   "metadata": {},
   "source": [
    "## Calculating Average Trip Duration and Visualizing with Pie Chart\n",
    "\n",
    "Now in this code, I will calculate the average trip duration for both members and casual riders.  \n",
    "Then, I will create a pie chart to show what percentage of the total average trip duration belongs to casual riders and what percentage to members."
   ]
  },
  {
   "cell_type": "code",
   "execution_count": 22,
   "id": "5e4a50b9-bbbb-4491-bcaa-2e088b54b02d",
   "metadata": {},
   "outputs": [],
   "source": [
    "data_08_new<-data_05_new%>%group_by(member_casual)%>%summarise(Avg_trip_duration=mean(trip_duration),.groups=\"drop\")%>%arrange(member_casual)"
   ]
  },
  {
   "cell_type": "code",
   "execution_count": 23,
   "id": "a0562c0b-b586-44cd-a3fb-fe475c5865ca",
   "metadata": {},
   "outputs": [
    {
     "data": {
      "text/html": [
       "<table class=\"dataframe\">\n",
       "<caption>A tibble: 2 × 2</caption>\n",
       "<thead>\n",
       "\t<tr><th scope=col>member_casual</th><th scope=col>Avg_trip_duration</th></tr>\n",
       "\t<tr><th scope=col>&lt;chr&gt;</th><th scope=col>&lt;drtn&gt;</th></tr>\n",
       "</thead>\n",
       "<tbody>\n",
       "\t<tr><td>casual</td><td>1612.4493 secs</td></tr>\n",
       "\t<tr><td>member</td><td> 803.8503 secs</td></tr>\n",
       "</tbody>\n",
       "</table>\n"
      ],
      "text/latex": [
       "A tibble: 2 × 2\n",
       "\\begin{tabular}{ll}\n",
       " member\\_casual & Avg\\_trip\\_duration\\\\\n",
       " <chr> & <drtn>\\\\\n",
       "\\hline\n",
       "\t casual & 1612.4493 secs\\\\\n",
       "\t member &  803.8503 secs\\\\\n",
       "\\end{tabular}\n"
      ],
      "text/markdown": [
       "\n",
       "A tibble: 2 × 2\n",
       "\n",
       "| member_casual &lt;chr&gt; | Avg_trip_duration &lt;drtn&gt; |\n",
       "|---|---|\n",
       "| casual | 1612.4493 secs |\n",
       "| member |  803.8503 secs |\n",
       "\n"
      ],
      "text/plain": [
       "  member_casual Avg_trip_duration\n",
       "1 casual        1612.4493 secs   \n",
       "2 member         803.8503 secs   "
      ]
     },
     "metadata": {},
     "output_type": "display_data"
    }
   ],
   "source": [
    "data_08_new"
   ]
  },
  {
   "cell_type": "code",
   "execution_count": 24,
   "id": "2c360db6-1b50-41ea-9942-5eddd7cb860a",
   "metadata": {},
   "outputs": [],
   "source": [
    "data_09_new <- data_08_new %>%\n",
    "  mutate(\n",
    "    Percentage = as.numeric(Avg_trip_duration) / sum(as.numeric(Avg_trip_duration)) * 100,\n",
    "    Label = paste(member_casual, round(Percentage, 1), \"%\"))\n",
    "  "
   ]
  },
  {
   "cell_type": "code",
   "execution_count": 25,
   "id": "034d7e23-e737-4a1f-a7ae-074b51bebc13",
   "metadata": {},
   "outputs": [
    {
     "data": {
      "text/html": [
       "<table class=\"dataframe\">\n",
       "<caption>A tibble: 2 × 4</caption>\n",
       "<thead>\n",
       "\t<tr><th scope=col>member_casual</th><th scope=col>Avg_trip_duration</th><th scope=col>Percentage</th><th scope=col>Label</th></tr>\n",
       "\t<tr><th scope=col>&lt;chr&gt;</th><th scope=col>&lt;drtn&gt;</th><th scope=col>&lt;dbl&gt;</th><th scope=col>&lt;chr&gt;</th></tr>\n",
       "</thead>\n",
       "<tbody>\n",
       "\t<tr><td>casual</td><td>1612.4493 secs</td><td>66.73218</td><td>casual 66.7 %</td></tr>\n",
       "\t<tr><td>member</td><td> 803.8503 secs</td><td>33.26782</td><td>member 33.3 %</td></tr>\n",
       "</tbody>\n",
       "</table>\n"
      ],
      "text/latex": [
       "A tibble: 2 × 4\n",
       "\\begin{tabular}{llll}\n",
       " member\\_casual & Avg\\_trip\\_duration & Percentage & Label\\\\\n",
       " <chr> & <drtn> & <dbl> & <chr>\\\\\n",
       "\\hline\n",
       "\t casual & 1612.4493 secs & 66.73218 & casual 66.7 \\%\\\\\n",
       "\t member &  803.8503 secs & 33.26782 & member 33.3 \\%\\\\\n",
       "\\end{tabular}\n"
      ],
      "text/markdown": [
       "\n",
       "A tibble: 2 × 4\n",
       "\n",
       "| member_casual &lt;chr&gt; | Avg_trip_duration &lt;drtn&gt; | Percentage &lt;dbl&gt; | Label &lt;chr&gt; |\n",
       "|---|---|---|---|\n",
       "| casual | 1612.4493 secs | 66.73218 | casual 66.7 % |\n",
       "| member |  803.8503 secs | 33.26782 | member 33.3 % |\n",
       "\n"
      ],
      "text/plain": [
       "  member_casual Avg_trip_duration Percentage Label        \n",
       "1 casual        1612.4493 secs    66.73218   casual 66.7 %\n",
       "2 member         803.8503 secs    33.26782   member 33.3 %"
      ]
     },
     "metadata": {},
     "output_type": "display_data"
    }
   ],
   "source": [
    "data_09_new"
   ]
  },
  {
   "cell_type": "code",
   "execution_count": 26,
   "id": "7e7a8d74-0a7b-450a-83ab-f5e4300c33da",
   "metadata": {
    "scrolled": true
   },
   "outputs": [
    {
     "data": {
      "image/png": "[encoded data removed]",
      "text/plain": [
       "plot without title"
      ]
     },
     "metadata": {
      "image/png": {
       "height": 420,
       "width": 420
      }
     },
     "output_type": "display_data"
    }
   ],
   "source": [
    "# Create pie chart\n",
    "ggplot(data_09_new, aes(x = \"\", y = as.numeric(Avg_trip_duration), fill = member_casual)) +\n",
    "  geom_col(width = 1, color = \"white\") +\n",
    "  coord_polar(theta = \"y\") +  # make it a pie chart\n",
    "  geom_text(aes(label = Label), position = position_stack(vjust = 0.5)) +\n",
    "  labs(title = \"Average Trip Duration Member Vs Casual\") +\n",
    "  theme_void()  # remove axis and background"
   ]
  },
  {
   "cell_type": "markdown",
   "id": "fc05052f-3924-45df-bf3f-9a2c50e62a8d",
   "metadata": {},
   "source": [
    "### ⏱️ Insight 2: Average Trip Duration by User Type\n",
    "\n",
    "According to above pie chart **66.7%** of the total average duration is made up by casual riders while **33.3%** of the total average trip duration by members,so by chart casual members use bikes for long ride while members for short ride.it means casual riders use service for rotine commutes while casual use it for leisure or tourism.\n",
    "As casual riders use service for long ride,**so the company should consider offering discounts or special perks for long trips as part of membership benifits**. \n",
    "so in this way casual riders will be motivated to see more value in becoming members.   \n"
   ]
  },
  {
   "cell_type": "markdown",
   "id": "94e3be66-dd10-4a7c-b47d-bb86f652dccb",
   "metadata": {},
   "source": [
    "## Monthly Ride Count and Average Trip Duration Analysis\n",
    "\n",
    "Now in this code, I will calculate the number of rides and the average trip duration for both members and casual riders in each month.  \n",
    "Then, I will create bar charts to observe the patterns—how the number of rides and average trip duration change month by month for both user types."
   ]
  },
  {
   "cell_type": "code",
   "execution_count": 27,
   "id": "15b34b44-25a2-42f8-9b48-5e966fc22ecd",
   "metadata": {},
   "outputs": [],
   "source": [
    "data_10_new<-data_05_new%>%group_by(member_casual,month)%>%summarise(number_of_rides=n(),avg_trip_duration=mean(trip_duration),.groups=\"drop\")%>%\n",
    "arrange(member_casual,month)"
   ]
  },
  {
   "cell_type": "code",
   "execution_count": 28,
   "id": "269c63e8-a134-4ec7-a606-3ec3de629fdb",
   "metadata": {},
   "outputs": [
    {
     "data": {
      "text/html": [
       "<table class=\"dataframe\">\n",
       "<caption>A tibble: 24 × 4</caption>\n",
       "<thead>\n",
       "\t<tr><th scope=col>member_casual</th><th scope=col>month</th><th scope=col>number_of_rides</th><th scope=col>avg_trip_duration</th></tr>\n",
       "\t<tr><th scope=col>&lt;chr&gt;</th><th scope=col>&lt;ord&gt;</th><th scope=col>&lt;int&gt;</th><th scope=col>&lt;drtn&gt;</th></tr>\n",
       "</thead>\n",
       "<tbody>\n",
       "\t<tr><td>casual</td><td>Jan</td><td> 18090</td><td>1283.3078 secs</td></tr>\n",
       "\t<tr><td>casual</td><td>Feb</td><td> 10072</td><td>1820.1485 secs</td></tr>\n",
       "\t<tr><td>casual</td><td>Mar</td><td> 83864</td><td>1885.5982 secs</td></tr>\n",
       "\t<tr><td>casual</td><td>Apr</td><td>136342</td><td>1866.4157 secs</td></tr>\n",
       "\t<tr><td>casual</td><td>May</td><td>256446</td><td>1897.9956 secs</td></tr>\n",
       "\t<tr><td>casual</td><td>Jun</td><td>369970</td><td>1761.9004 secs</td></tr>\n",
       "\t<tr><td>casual</td><td>Jul</td><td>441393</td><td>1651.1138 secs</td></tr>\n",
       "\t<tr><td>casual</td><td>Aug</td><td>412079</td><td>1579.8831 secs</td></tr>\n",
       "\t<tr><td>casual</td><td>Sep</td><td>363435</td><td>1514.6023 secs</td></tr>\n",
       "\t<tr><td>casual</td><td>Oct</td><td>256776</td><td>1371.5857 secs</td></tr>\n",
       "\t<tr><td>casual</td><td>Nov</td><td>106723</td><td>1123.5878 secs</td></tr>\n",
       "\t<tr><td>casual</td><td>Dec</td><td> 69590</td><td>1091.4609 secs</td></tr>\n",
       "\t<tr><td>member</td><td>Jan</td><td> 78698</td><td> 761.0998 secs</td></tr>\n",
       "\t<tr><td>member</td><td>Feb</td><td> 39429</td><td> 948.5144 secs</td></tr>\n",
       "\t<tr><td>member</td><td>Mar</td><td>144431</td><td> 831.9881 secs</td></tr>\n",
       "\t<tr><td>member</td><td>Apr</td><td>200566</td><td> 870.8012 secs</td></tr>\n",
       "\t<tr><td>member</td><td>May</td><td>274616</td><td> 867.4352 secs</td></tr>\n",
       "\t<tr><td>member</td><td>Jun</td><td>358796</td><td> 864.8406 secs</td></tr>\n",
       "\t<tr><td>member</td><td>Jul</td><td>380232</td><td> 843.6614 secs</td></tr>\n",
       "\t<tr><td>member</td><td>Aug</td><td>391524</td><td> 832.2862 secs</td></tr>\n",
       "\t<tr><td>member</td><td>Sep</td><td>392094</td><td> 811.1309 secs</td></tr>\n",
       "\t<tr><td>member</td><td>Oct</td><td>373845</td><td> 734.4533 secs</td></tr>\n",
       "\t<tr><td>member</td><td>Nov</td><td>252949</td><td> 665.9458 secs</td></tr>\n",
       "\t<tr><td>member</td><td>Dec</td><td>177765</td><td> 649.2915 secs</td></tr>\n",
       "</tbody>\n",
       "</table>\n"
      ],
      "text/latex": [
       "A tibble: 24 × 4\n",
       "\\begin{tabular}{llll}\n",
       " member\\_casual & month & number\\_of\\_rides & avg\\_trip\\_duration\\\\\n",
       " <chr> & <ord> & <int> & <drtn>\\\\\n",
       "\\hline\n",
       "\t casual & Jan &  18090 & 1283.3078 secs\\\\\n",
       "\t casual & Feb &  10072 & 1820.1485 secs\\\\\n",
       "\t casual & Mar &  83864 & 1885.5982 secs\\\\\n",
       "\t casual & Apr & 136342 & 1866.4157 secs\\\\\n",
       "\t casual & May & 256446 & 1897.9956 secs\\\\\n",
       "\t casual & Jun & 369970 & 1761.9004 secs\\\\\n",
       "\t casual & Jul & 441393 & 1651.1138 secs\\\\\n",
       "\t casual & Aug & 412079 & 1579.8831 secs\\\\\n",
       "\t casual & Sep & 363435 & 1514.6023 secs\\\\\n",
       "\t casual & Oct & 256776 & 1371.5857 secs\\\\\n",
       "\t casual & Nov & 106723 & 1123.5878 secs\\\\\n",
       "\t casual & Dec &  69590 & 1091.4609 secs\\\\\n",
       "\t member & Jan &  78698 &  761.0998 secs\\\\\n",
       "\t member & Feb &  39429 &  948.5144 secs\\\\\n",
       "\t member & Mar & 144431 &  831.9881 secs\\\\\n",
       "\t member & Apr & 200566 &  870.8012 secs\\\\\n",
       "\t member & May & 274616 &  867.4352 secs\\\\\n",
       "\t member & Jun & 358796 &  864.8406 secs\\\\\n",
       "\t member & Jul & 380232 &  843.6614 secs\\\\\n",
       "\t member & Aug & 391524 &  832.2862 secs\\\\\n",
       "\t member & Sep & 392094 &  811.1309 secs\\\\\n",
       "\t member & Oct & 373845 &  734.4533 secs\\\\\n",
       "\t member & Nov & 252949 &  665.9458 secs\\\\\n",
       "\t member & Dec & 177765 &  649.2915 secs\\\\\n",
       "\\end{tabular}\n"
      ],
      "text/markdown": [
       "\n",
       "A tibble: 24 × 4\n",
       "\n",
       "| member_casual &lt;chr&gt; | month &lt;ord&gt; | number_of_rides &lt;int&gt; | avg_trip_duration &lt;drtn&gt; |\n",
       "|---|---|---|---|\n",
       "| casual | Jan |  18090 | 1283.3078 secs |\n",
       "| casual | Feb |  10072 | 1820.1485 secs |\n",
       "| casual | Mar |  83864 | 1885.5982 secs |\n",
       "| casual | Apr | 136342 | 1866.4157 secs |\n",
       "| casual | May | 256446 | 1897.9956 secs |\n",
       "| casual | Jun | 369970 | 1761.9004 secs |\n",
       "| casual | Jul | 441393 | 1651.1138 secs |\n",
       "| casual | Aug | 412079 | 1579.8831 secs |\n",
       "| casual | Sep | 363435 | 1514.6023 secs |\n",
       "| casual | Oct | 256776 | 1371.5857 secs |\n",
       "| casual | Nov | 106723 | 1123.5878 secs |\n",
       "| casual | Dec |  69590 | 1091.4609 secs |\n",
       "| member | Jan |  78698 |  761.0998 secs |\n",
       "| member | Feb |  39429 |  948.5144 secs |\n",
       "| member | Mar | 144431 |  831.9881 secs |\n",
       "| member | Apr | 200566 |  870.8012 secs |\n",
       "| member | May | 274616 |  867.4352 secs |\n",
       "| member | Jun | 358796 |  864.8406 secs |\n",
       "| member | Jul | 380232 |  843.6614 secs |\n",
       "| member | Aug | 391524 |  832.2862 secs |\n",
       "| member | Sep | 392094 |  811.1309 secs |\n",
       "| member | Oct | 373845 |  734.4533 secs |\n",
       "| member | Nov | 252949 |  665.9458 secs |\n",
       "| member | Dec | 177765 |  649.2915 secs |\n",
       "\n"
      ],
      "text/plain": [
       "   member_casual month number_of_rides avg_trip_duration\n",
       "1  casual        Jan    18090          1283.3078 secs   \n",
       "2  casual        Feb    10072          1820.1485 secs   \n",
       "3  casual        Mar    83864          1885.5982 secs   \n",
       "4  casual        Apr   136342          1866.4157 secs   \n",
       "5  casual        May   256446          1897.9956 secs   \n",
       "6  casual        Jun   369970          1761.9004 secs   \n",
       "7  casual        Jul   441393          1651.1138 secs   \n",
       "8  casual        Aug   412079          1579.8831 secs   \n",
       "9  casual        Sep   363435          1514.6023 secs   \n",
       "10 casual        Oct   256776          1371.5857 secs   \n",
       "11 casual        Nov   106723          1123.5878 secs   \n",
       "12 casual        Dec    69590          1091.4609 secs   \n",
       "13 member        Jan    78698           761.0998 secs   \n",
       "14 member        Feb    39429           948.5144 secs   \n",
       "15 member        Mar   144431           831.9881 secs   \n",
       "16 member        Apr   200566           870.8012 secs   \n",
       "17 member        May   274616           867.4352 secs   \n",
       "18 member        Jun   358796           864.8406 secs   \n",
       "19 member        Jul   380232           843.6614 secs   \n",
       "20 member        Aug   391524           832.2862 secs   \n",
       "21 member        Sep   392094           811.1309 secs   \n",
       "22 member        Oct   373845           734.4533 secs   \n",
       "23 member        Nov   252949           665.9458 secs   \n",
       "24 member        Dec   177765           649.2915 secs   "
      ]
     },
     "metadata": {},
     "output_type": "display_data"
    }
   ],
   "source": [
    "data_10_new"
   ]
  },
  {
   "cell_type": "code",
   "execution_count": 29,
   "id": "dbcf903b-b6fc-4492-9c7d-fd928cdceb48",
   "metadata": {},
   "outputs": [
    {
     "name": "stderr",
     "output_type": "stream",
     "text": [
      "\u001b[1m\u001b[22mDon't know how to automatically pick scale for object of type \u001b[34m<difftime>\u001b[39m. Defaulting to continuous.\n"
     ]
    },
    {
     "data": {
      "image/png": "[encoded data removed]",
      "text/plain": [
       "plot without title"
      ]
     },
     "metadata": {
      "image/png": {
       "height": 420,
       "width": 420
      }
     },
     "output_type": "display_data"
    }
   ],
   "source": [
    "library(ggplot2)\n",
    "data_10_new%>%ggplot(mapping = aes(x=month,y=avg_trip_duration,fill=member_casual))+geom_col(position=\"dodge\")+labs(title=\"Average Trip Duration Monthwise\",x=\"Months\",y=\"Average Trip Duration\")+theme(\n",
    "    axis.text.x = element_text(face = \"bold\", size = 12),\n",
    "    axis.text.y = element_text(face = \"bold\", size = 12),\n",
    "    axis.title.x = element_text(face = \"bold\", size = 14, vjust = -0.5),\n",
    "    axis.title.y = element_text(face = \"bold\", size = 14, vjust = 2)\n",
    "  )"
   ]
  },
  {
   "cell_type": "code",
   "execution_count": 30,
   "id": "96c562a0-9377-431c-a025-071dac178b4c",
   "metadata": {},
   "outputs": [
    {
     "name": "stderr",
     "output_type": "stream",
     "text": [
      "Warning message:\n",
      "\"\u001b[1m\u001b[22mUsing `size` aesthetic for lines was deprecated in ggplot2 3.4.0.\n",
      "\u001b[36mℹ\u001b[39m Please use `linewidth` instead.\"\n",
      "\u001b[1m\u001b[22mDon't know how to automatically pick scale for object of type \u001b[34m<difftime>\u001b[39m. Defaulting to continuous.\n"
     ]
    },
    {
     "data": {
      "image/png": "[encoded data removed]",
      "text/plain": [
       "plot without title"
      ]
     },
     "metadata": {
      "image/png": {
       "height": 420,
       "width": 420
      }
     },
     "output_type": "display_data"
    }
   ],
   "source": [
    "data_10_new %>%\n",
    "  ggplot(mapping = aes(x = month, y = avg_trip_duration, group = member_casual)) +\n",
    "  geom_col(aes(fill = member_casual), position = \"dodge\") +\n",
    "  geom_line(aes(color = member_casual), size = 1.2, position = position_dodge(width = 0.9)) +\n",
    "  labs(\n",
    "    title = \"Average Trip Duration Monthwise\",\n",
    "    x = \"Months\",\n",
    "    y = \"Average Trip Duration\"\n",
    "  ) +\n",
    "  theme(\n",
    "    axis.text.x = element_text(face = \"bold\", size = 12),\n",
    "    axis.text.y = element_text(face = \"bold\", size = 12),\n",
    "    axis.title.x = element_text(face = \"bold\", size = 14, vjust = -0.5),\n",
    "    axis.title.y = element_text(face = \"bold\", size = 14, vjust = 2)\n",
    "  )"
   ]
  },
  {
   "cell_type": "markdown",
   "id": "0d4362cf-5628-4406-affc-6f06a03ab21a",
   "metadata": {},
   "source": [
    "### 📊 Insight 3: Seasonal Trends Show Higher Trip Duration in Summer, Especially Among Casual Riders\r\n",
    "\r\n",
    "The graph clearly illustrates that **average trip duration for both casual and member riders increases during warmer months**—peaking around **June and July**—and drops during the **colder months**, especially in **December and January**.\r\n",
    "\r\n",
    "Notably, **casual riders consistently take longer trips than members**, and their average trip duration shows a sharper rise during the summer season. This suggests that casual riders are likely engaging in **recreational or leisure rides**, which are more appealing in pleasaeather. n:  \r\n",
    "> Cyclistic should consider launching **special summer packages**, time-limited **discounts**, or **seasonal membership promotions** aimed at casual riders. This approach would not only align with their natural riding behavior but could also encourage them to try annual memberships when they are most active.\r\n",
    "\r\n",
    "In addition, the **marketing team can strategically focus their campaigns during the spring and early summer**, when ride durations begin to increase. Highlighting the benefits of being a member—such as cost savings on long trips or exclusive perks—can be particularly effective when casual riders are most engaged."
   ]
  },
  {
   "cell_type": "code",
   "execution_count": 31,
   "id": "379c744f-6641-4769-999e-ee5d8df7a58a",
   "metadata": {},
   "outputs": [
    {
     "data": {
      "image/png": "[encoded data removed]",
      "text/plain": [
       "plot without title"
      ]
     },
     "metadata": {
      "image/png": {
       "height": 420,
       "width": 420
      }
     },
     "output_type": "display_data"
    }
   ],
   "source": [
    "data_10_new%>%ggplot(mapping = aes(x=month,y=number_of_rides,fill=member_casual))+geom_col(position=\"dodge\")+labs(title=\"Number Of Trips Monthwise\",x=\"Months\",\"Number Of Trips\")+theme(\n",
    "    axis.text.x = element_text(face = \"bold\", size = 12),\n",
    "    axis.text.y = element_text(face = \"bold\", size = 12),\n",
    "    axis.title.x = element_text(face = \"bold\", size = 14, vjust = -0.5),\n",
    "    axis.title.y = element_text(face = \"bold\", size = 14, vjust = 2)\n",
    "  )"
   ]
  },
  {
   "cell_type": "code",
   "execution_count": 32,
   "id": "a981dae6-8136-462d-a3f9-032c9d0a9e34",
   "metadata": {},
   "outputs": [
    {
     "data": {
      "image/png": "[encoded data removed]",
      "text/plain": [
       "plot without title"
      ]
     },
     "metadata": {
      "image/png": {
       "height": 420,
       "width": 420
      }
     },
     "output_type": "display_data"
    }
   ],
   "source": [
    "data_10_new %>%\n",
    "  ggplot(mapping = aes(x = month, y = number_of_rides, group = member_casual)) +\n",
    "  geom_col(aes(fill = member_casual), position = \"dodge\") +\n",
    "  geom_line(aes(color = member_casual), size = 1.2, position = position_dodge(width = 0.9)) +\n",
    "  labs(\n",
    "    title = \"Number Of Trips Monthwise\",\n",
    "    x = \"Months\",\n",
    "    y = \"Number Of Trips\"\n",
    "  ) +\n",
    "  theme(\n",
    "    axis.text.x = element_text(face = \"bold\", size = 12),\n",
    "    axis.text.y = element_text(face = \"bold\", size = 12),\n",
    "    axis.title.x = element_text(face = \"bold\", size = 14, vjust = -0.5),\n",
    "    axis.title.y = element_text(face = \"bold\", size = 14, vjust = 2)\n",
    "  )"
   ]
  },
  {
   "cell_type": "markdown",
   "id": "5577d1dc-91d9-471f-afaa-804e1a60ab70",
   "metadata": {},
   "source": [
    "### Insight 5: Seasonal Trends in Number of Trips\r\n",
    "\r\n",
    "The grapshowsls a clear seasonal trend in the number of bike trips taken by both casual riders and member\n",
    "\n",
    "- **According to the graph, the number of trips for both user types is at its lowest in January, gradually increases until July, peaks in July, and then decreases, reaching the lowest point again in December. This indicates that trip frequency is highest in summer and lowest in winter for both groups.**  \r\n",
    "- **The graph also shows that casual riders take the highest number of trips in July and the fewest in January.**ply**.\r\n",
    "\r\n",
    "### What Cyclistic Can Do:\r\n",
    "\r\n",
    "- **Capitalize on peak summer months** by launching targeted promotions for casual riders during this period. These could include:\r\n",
    "  - Limited-time summer membership discounts.\r\n",
    "  - Group or family packages for weekend riders.\r\n",
    "  - Special campaigns focused on popular summer events or holidays.\r\n",
    "\r\n",
    "- **Encourage casual riders to become members** before or during summer with messaging like “Make the most of your summer – ride more, save more with a membership!”\r\n",
    "\r\n",
    "Understanding this seasonal pattern helps Cyclistic plan marketing efforts more effectively and ensures they are reaching casual users when they are most engaged."
   ]
  },
  {
   "cell_type": "markdown",
   "id": "9e39473c-12ef-4966-86a2-965a6f6de2b6",
   "metadata": {},
   "source": [
    "## Average Trip Duration by Day of the Week\n",
    "\n",
    "Now in this code, I will calculate the average trip duration for both members and casual riders for each day of the week.  \n",
    "Then, I will create a bar chart to observe the pattern—how the average trip duration varies by day for both user types."
   ]
  },
  {
   "cell_type": "code",
   "execution_count": 33,
   "id": "83f3a5f3-4237-4d65-9df3-99317d065e9d",
   "metadata": {},
   "outputs": [],
   "source": [
    "data_11_new<-data_05_new%>%group_by(member_casual,weekday)%>%summarise(average_trip_duration=mean(trip_duration),.groups=\"drop\")%>%arrange(member_casual,weekday)"
   ]
  },
  {
   "cell_type": "code",
   "execution_count": 34,
   "id": "ab7a2c56-f7b5-4e80-b986-c7b1beff74c9",
   "metadata": {},
   "outputs": [
    {
     "data": {
      "text/html": [
       "<table class=\"dataframe\">\n",
       "<caption>A tibble: 14 × 3</caption>\n",
       "<thead>\n",
       "\t<tr><th scope=col>member_casual</th><th scope=col>weekday</th><th scope=col>average_trip_duration</th></tr>\n",
       "\t<tr><th scope=col>&lt;chr&gt;</th><th scope=col>&lt;ord&gt;</th><th scope=col>&lt;drtn&gt;</th></tr>\n",
       "</thead>\n",
       "<tbody>\n",
       "\t<tr><td>casual</td><td>Sun</td><td>1863.9590 secs</td></tr>\n",
       "\t<tr><td>casual</td><td>Mon</td><td>1633.9742 secs</td></tr>\n",
       "\t<tr><td>casual</td><td>Tue</td><td>1469.9708 secs</td></tr>\n",
       "\t<tr><td>casual</td><td>Wed</td><td>1397.1635 secs</td></tr>\n",
       "\t<tr><td>casual</td><td>Thu</td><td>1389.7016 secs</td></tr>\n",
       "\t<tr><td>casual</td><td>Fri</td><td>1496.4152 secs</td></tr>\n",
       "\t<tr><td>casual</td><td>Sat</td><td>1752.2797 secs</td></tr>\n",
       "\t<tr><td>member</td><td>Sun</td><td> 917.7759 secs</td></tr>\n",
       "\t<tr><td>member</td><td>Mon</td><td> 780.1394 secs</td></tr>\n",
       "\t<tr><td>member</td><td>Tue</td><td> 756.4445 secs</td></tr>\n",
       "\t<tr><td>member</td><td>Wed</td><td> 759.5847 secs</td></tr>\n",
       "\t<tr><td>member</td><td>Thu</td><td> 753.8005 secs</td></tr>\n",
       "\t<tr><td>member</td><td>Fri</td><td> 785.7888 secs</td></tr>\n",
       "\t<tr><td>member</td><td>Sat</td><td> 898.2605 secs</td></tr>\n",
       "</tbody>\n",
       "</table>\n"
      ],
      "text/latex": [
       "A tibble: 14 × 3\n",
       "\\begin{tabular}{lll}\n",
       " member\\_casual & weekday & average\\_trip\\_duration\\\\\n",
       " <chr> & <ord> & <drtn>\\\\\n",
       "\\hline\n",
       "\t casual & Sun & 1863.9590 secs\\\\\n",
       "\t casual & Mon & 1633.9742 secs\\\\\n",
       "\t casual & Tue & 1469.9708 secs\\\\\n",
       "\t casual & Wed & 1397.1635 secs\\\\\n",
       "\t casual & Thu & 1389.7016 secs\\\\\n",
       "\t casual & Fri & 1496.4152 secs\\\\\n",
       "\t casual & Sat & 1752.2797 secs\\\\\n",
       "\t member & Sun &  917.7759 secs\\\\\n",
       "\t member & Mon &  780.1394 secs\\\\\n",
       "\t member & Tue &  756.4445 secs\\\\\n",
       "\t member & Wed &  759.5847 secs\\\\\n",
       "\t member & Thu &  753.8005 secs\\\\\n",
       "\t member & Fri &  785.7888 secs\\\\\n",
       "\t member & Sat &  898.2605 secs\\\\\n",
       "\\end{tabular}\n"
      ],
      "text/markdown": [
       "\n",
       "A tibble: 14 × 3\n",
       "\n",
       "| member_casual &lt;chr&gt; | weekday &lt;ord&gt; | average_trip_duration &lt;drtn&gt; |\n",
       "|---|---|---|\n",
       "| casual | Sun | 1863.9590 secs |\n",
       "| casual | Mon | 1633.9742 secs |\n",
       "| casual | Tue | 1469.9708 secs |\n",
       "| casual | Wed | 1397.1635 secs |\n",
       "| casual | Thu | 1389.7016 secs |\n",
       "| casual | Fri | 1496.4152 secs |\n",
       "| casual | Sat | 1752.2797 secs |\n",
       "| member | Sun |  917.7759 secs |\n",
       "| member | Mon |  780.1394 secs |\n",
       "| member | Tue |  756.4445 secs |\n",
       "| member | Wed |  759.5847 secs |\n",
       "| member | Thu |  753.8005 secs |\n",
       "| member | Fri |  785.7888 secs |\n",
       "| member | Sat |  898.2605 secs |\n",
       "\n"
      ],
      "text/plain": [
       "   member_casual weekday average_trip_duration\n",
       "1  casual        Sun     1863.9590 secs       \n",
       "2  casual        Mon     1633.9742 secs       \n",
       "3  casual        Tue     1469.9708 secs       \n",
       "4  casual        Wed     1397.1635 secs       \n",
       "5  casual        Thu     1389.7016 secs       \n",
       "6  casual        Fri     1496.4152 secs       \n",
       "7  casual        Sat     1752.2797 secs       \n",
       "8  member        Sun      917.7759 secs       \n",
       "9  member        Mon      780.1394 secs       \n",
       "10 member        Tue      756.4445 secs       \n",
       "11 member        Wed      759.5847 secs       \n",
       "12 member        Thu      753.8005 secs       \n",
       "13 member        Fri      785.7888 secs       \n",
       "14 member        Sat      898.2605 secs       "
      ]
     },
     "metadata": {},
     "output_type": "display_data"
    }
   ],
   "source": [
    "data_11_new"
   ]
  },
  {
   "cell_type": "code",
   "execution_count": 35,
   "id": "77fdcf1a-fad4-4c8c-91b1-b07758f926d4",
   "metadata": {},
   "outputs": [
    {
     "name": "stderr",
     "output_type": "stream",
     "text": [
      "\u001b[1m\u001b[22mDon't know how to automatically pick scale for object of type \u001b[34m<difftime>\u001b[39m. Defaulting to continuous.\n"
     ]
    },
    {
     "data": {
      "image/png": "[encoded data removed]",
      "text/plain": [
       "plot without title"
      ]
     },
     "metadata": {
      "image/png": {
       "height": 420,
       "width": 420
      }
     },
     "output_type": "display_data"
    }
   ],
   "source": [
    "data_11_new%>%ggplot(aes(x=weekday,y=average_trip_duration,fill=member_casual))+geom_col(position=\"dodge\")+labs(\"Average Trip duration Month-Wise\",x=\"Day Of The Week\",y=\"Average Trip Duration\")+theme(\n",
    "    axis.text.x = element_text(face = \"bold\", size = 12),\n",
    "    axis.text.y = element_text(face = \"bold\", size = 12),\n",
    "    axis.title.x = element_text(face = \"bold\", size = 14, vjust = -0.5),\n",
    "    axis.title.y = element_text(face = \"bold\", size = 14, vjust = 2))\n",
    "  "
   ]
  },
  {
   "cell_type": "code",
   "execution_count": 36,
   "id": "ad233a1d-594d-4b93-be15-06ad4f9a1770",
   "metadata": {},
   "outputs": [
    {
     "name": "stderr",
     "output_type": "stream",
     "text": [
      "\u001b[1m\u001b[22mDon't know how to automatically pick scale for object of type \u001b[34m<difftime>\u001b[39m. Defaulting to continuous.\n"
     ]
    },
    {
     "data": {
      "image/png": "[encoded data removed]",
      "text/plain": [
       "plot without title"
      ]
     },
     "metadata": {
      "image/png": {
       "height": 420,
       "width": 420
      }
     },
     "output_type": "display_data"
    }
   ],
   "source": [
    "data_11_new %>%\n",
    "  ggplot(aes(x = weekday, y = average_trip_duration, group = member_casual)) +\n",
    "  geom_col(aes(fill = member_casual), position = \"dodge\") +\n",
    "  geom_line(aes(color = member_casual), size = 1.2, position = position_dodge(width = 0.9)) +\n",
    "  labs(\n",
    "    title = \"Average Trip Duration Day-Wise\",\n",
    "    x = \"Day Of The Week\",\n",
    "    y = \"Average Trip Duration\"\n",
    "  ) +\n",
    "  theme(\n",
    "    axis.text.x = element_text(face = \"bold\", size = 12),\n",
    "    axis.text.y = element_text(face = \"bold\", size = 12),\n",
    "    axis.title.x = element_text(face = \"bold\", size = 14, vjust = -0.5),\n",
    "    axis.title.y = element_text(face = \"bold\", size = 14, vjust = 2)\n",
    "  )"
   ]
  },
  {
   "cell_type": "markdown",
   "id": "3fafdc53-ae8e-4452-ac01-ff81b44512ed",
   "metadata": {},
   "source": [
    "### Insight 4: Different Ride Patterns Between Casual Riders and Members\r\n",
    "\r\n",
    "From the graph, it's clear that casual riders and annual members use Cyclistic bikes on different days of the week:\r\n",
    "\r\n",
    "- **Casual riders take more trips on weekends**, with the highest number of rides on **Saturday**. This suggests that they mostly use the bikes for leisure or recreational purposes.\r\n",
    "- **Members, on the other hand, ride more consistently throughout the weekdays**, especially on **Tuesday and Wednesday**. This pattern likely reflects daily commuting or regular travel routines.\r\n",
    "\r\n",
    "### What Cyclistic Can Do:\r\n",
    "\r\n",
    "To convert more casual riders into annual members, the company could:\r\n",
    "\r\n",
    "- **Offer special incentives for weekday rides**, such as discounted weekday passes or trial memberships.\r\n",
    "- **Highlight the cost-saving benefits of membership**, especially for riders who use the service every weekend.\r\n",
    "- Launch **targeted weekend promotions** that encourage casual users to try weekday commuting with a membership.\r\n",
    "\r\n",
    "By aligning casual rider behavior more with that of members, Cyclistic can support its goal of increasing long-term membership.\n"
   ]
  },
  {
   "cell_type": "markdown",
   "id": "f2679a54-9f61-4c1a-9777-d83ff09a1166",
   "metadata": {},
   "source": [
    "## Daily Ride Count by User Type\n",
    "\n",
    "Now in this code, I will calculate the number of rides for both members and casual riders for each day of the week.  \n",
    "Then, I will create a bar chart to observe the pattern—how the number of rides varies each day for both user types."
   ]
  },
  {
   "cell_type": "code",
   "execution_count": 37,
   "id": "9d487f9f-31f2-447e-8c19-5c4a4e1dc7c1",
   "metadata": {},
   "outputs": [],
   "source": [
    "data_12_new<-data_05_new%>%group_by(member_casual,weekday)%>%summarise(number_of_trips=n(),.groups=\"drop\")%>%arrange(member_casual,weekday)"
   ]
  },
  {
   "cell_type": "code",
   "execution_count": 38,
   "id": "3c8ee582-62f0-4a27-99e5-32b6d0576a7b",
   "metadata": {},
   "outputs": [
    {
     "data": {
      "text/html": [
       "<table class=\"dataframe\">\n",
       "<caption>A tibble: 14 × 3</caption>\n",
       "<thead>\n",
       "\t<tr><th scope=col>member_casual</th><th scope=col>weekday</th><th scope=col>number_of_trips</th></tr>\n",
       "\t<tr><th scope=col>&lt;chr&gt;</th><th scope=col>&lt;ord&gt;</th><th scope=col>&lt;int&gt;</th></tr>\n",
       "</thead>\n",
       "<tbody>\n",
       "\t<tr><td>casual</td><td>Sun</td><td>480159</td></tr>\n",
       "\t<tr><td>casual</td><td>Mon</td><td>285896</td></tr>\n",
       "\t<tr><td>casual</td><td>Tue</td><td>274003</td></tr>\n",
       "\t<tr><td>casual</td><td>Wed</td><td>278553</td></tr>\n",
       "\t<tr><td>casual</td><td>Thu</td><td>285633</td></tr>\n",
       "\t<tr><td>casual</td><td>Fri</td><td>363494</td></tr>\n",
       "\t<tr><td>casual</td><td>Sat</td><td>557042</td></tr>\n",
       "\t<tr><td>member</td><td>Sun</td><td>375934</td></tr>\n",
       "\t<tr><td>member</td><td>Mon</td><td>416084</td></tr>\n",
       "\t<tr><td>member</td><td>Tue</td><td>465367</td></tr>\n",
       "\t<tr><td>member</td><td>Wed</td><td>477047</td></tr>\n",
       "\t<tr><td>member</td><td>Thu</td><td>451382</td></tr>\n",
       "\t<tr><td>member</td><td>Fri</td><td>446267</td></tr>\n",
       "\t<tr><td>member</td><td>Sat</td><td>432864</td></tr>\n",
       "</tbody>\n",
       "</table>\n"
      ],
      "text/latex": [
       "A tibble: 14 × 3\n",
       "\\begin{tabular}{lll}\n",
       " member\\_casual & weekday & number\\_of\\_trips\\\\\n",
       " <chr> & <ord> & <int>\\\\\n",
       "\\hline\n",
       "\t casual & Sun & 480159\\\\\n",
       "\t casual & Mon & 285896\\\\\n",
       "\t casual & Tue & 274003\\\\\n",
       "\t casual & Wed & 278553\\\\\n",
       "\t casual & Thu & 285633\\\\\n",
       "\t casual & Fri & 363494\\\\\n",
       "\t casual & Sat & 557042\\\\\n",
       "\t member & Sun & 375934\\\\\n",
       "\t member & Mon & 416084\\\\\n",
       "\t member & Tue & 465367\\\\\n",
       "\t member & Wed & 477047\\\\\n",
       "\t member & Thu & 451382\\\\\n",
       "\t member & Fri & 446267\\\\\n",
       "\t member & Sat & 432864\\\\\n",
       "\\end{tabular}\n"
      ],
      "text/markdown": [
       "\n",
       "A tibble: 14 × 3\n",
       "\n",
       "| member_casual &lt;chr&gt; | weekday &lt;ord&gt; | number_of_trips &lt;int&gt; |\n",
       "|---|---|---|\n",
       "| casual | Sun | 480159 |\n",
       "| casual | Mon | 285896 |\n",
       "| casual | Tue | 274003 |\n",
       "| casual | Wed | 278553 |\n",
       "| casual | Thu | 285633 |\n",
       "| casual | Fri | 363494 |\n",
       "| casual | Sat | 557042 |\n",
       "| member | Sun | 375934 |\n",
       "| member | Mon | 416084 |\n",
       "| member | Tue | 465367 |\n",
       "| member | Wed | 477047 |\n",
       "| member | Thu | 451382 |\n",
       "| member | Fri | 446267 |\n",
       "| member | Sat | 432864 |\n",
       "\n"
      ],
      "text/plain": [
       "   member_casual weekday number_of_trips\n",
       "1  casual        Sun     480159         \n",
       "2  casual        Mon     285896         \n",
       "3  casual        Tue     274003         \n",
       "4  casual        Wed     278553         \n",
       "5  casual        Thu     285633         \n",
       "6  casual        Fri     363494         \n",
       "7  casual        Sat     557042         \n",
       "8  member        Sun     375934         \n",
       "9  member        Mon     416084         \n",
       "10 member        Tue     465367         \n",
       "11 member        Wed     477047         \n",
       "12 member        Thu     451382         \n",
       "13 member        Fri     446267         \n",
       "14 member        Sat     432864         "
      ]
     },
     "metadata": {},
     "output_type": "display_data"
    }
   ],
   "source": [
    "data_12_new"
   ]
  },
  {
   "cell_type": "code",
   "execution_count": 39,
   "id": "4a729a98-38ae-47ab-b61f-e07a76fbb5a6",
   "metadata": {},
   "outputs": [
    {
     "data": {
      "image/png": "[encoded data removed]",
      "text/plain": [
       "plot without title"
      ]
     },
     "metadata": {
      "image/png": {
       "height": 420,
       "width": 420
      }
     },
     "output_type": "display_data"
    }
   ],
   "source": [
    "data_12_new%>%ggplot(aes(x=weekday,y=number_of_trips,fill=member_casual))+geom_col(position=\"dodge\")+labs(\"Number Of Trips daily\",x=\"weekday\",y=\"Number Of Trips\")+theme(\n",
    "    axis.text.x = element_text(face = \"bold\", size = 12),\n",
    "    axis.text.y = element_text(face = \"bold\", size = 12),\n",
    "    axis.title.x = element_text(face = \"bold\", size = 14, vjust = -0.5),\n",
    "    axis.title.y = element_text(face = \"bold\", size = 14, vjust = 2))\n",
    "  "
   ]
  },
  {
   "cell_type": "code",
   "execution_count": 40,
   "id": "e9ac892c-d7c4-4dd3-a58f-8756d6d166c9",
   "metadata": {},
   "outputs": [
    {
     "data": {
      "image/png": "[encoded data removed]",
      "text/plain": [
       "plot without title"
      ]
     },
     "metadata": {
      "image/png": {
       "height": 420,
       "width": 420
      }
     },
     "output_type": "display_data"
    }
   ],
   "source": [
    "data_12_new %>%\n",
    "  ggplot(aes(x = weekday, y = number_of_trips, group = member_casual)) +\n",
    "  geom_col(aes(fill = member_casual), position = \"dodge\") +\n",
    "  geom_line(aes(color = member_casual), size = 1.2, position = position_dodge(width = 0.9)) +\n",
    "  labs(\n",
    "    title = \"Number Of Trips Daily\",\n",
    "    x = \"Weekday\",\n",
    "    y = \"Number Of Trips\"\n",
    "  ) +\n",
    "  theme(\n",
    "    axis.text.x = element_text(face = \"bold\", size = 12),\n",
    "    axis.text.y = element_text(face = \"bold\", size = 12),\n",
    "    axis.title.x = element_text(face = \"bold\", size = 14, vjust = -0.5),\n",
    "    axis.title.y = element_text(face = \"bold\", size = 14, vjust = 2)\n",
    "  )"
   ]
  },
  {
   "cell_type": "markdown",
   "id": "095758f0-0772-44c7-b454-a44ab85cfb07",
   "metadata": {},
   "source": [
    "### Insight 6: Weekend Peaks vs. Weekday Stability in Ride Frequency\r\n",
    "\r\n",
    "The chart shows a striking contrast between casual riders and members over the course of a week:\r\n",
    "\r\n",
    "- **Casual riders take far more trips on weekends**, with a major spike on **Saturday** and a strong showing on **Sunday**. This reinforces the idea that they’re primarily using Cyclistic bikes for leisure activities.\r\n",
    "- **Members, by comparison, ride at a fairly steady rate throughout the weekdays**, peaking slightly on **Tuesday and Wednesday**, before tapering off on the weekend. This pattern suggests a commuter or routine-use mindset.\r\n",
    "\r\n",
    "**What Cyclistic Can Do:**\r\n",
    "\r\n",
    "- **Launch “Weekday Warrior” promotions** for casual riders, offering discounted rates or bonus ride credits for trips taken Monday through Friday.  \r\n",
    "- **Offer “Weekend Explorer” trial memberships** to heavy weekend users—highlighting how a membership can deliver even better value for their leisure rides.  \r\n",
    "- **Time marketing pushes** to early in the week when casual rider trips dip, reminding them of the benefits of regular membership that extend beyond weekend fun. "
   ]
  },
  {
   "cell_type": "markdown",
   "id": "3536cec0-5235-464b-8fb7-99bf7ca047fb",
   "metadata": {},
   "source": [
    "# Act Phase\n",
    "\n",
    "Now that the analysis is complete and insights have been shared, it's time to take action based on what we've learned.\n",
    "\n",
    "Our findings clearly show that members and casual riders use Cyclistic bikes in different ways—for example, they differ in how often they ride, how long their trips are, and what days or months they prefer. These patterns can help the marketing team design smart strategies to encourage more casual riders to become annual members.\n",
    "\n",
    "### Suggested Actions:\n",
    "\n",
    "- **Run Targeted Promotions**  \n",
    "  Launch marketing campaigns during the times when casual riders are most active. This will help grab their attention and increase the chances of converting them into members.\n",
    "\n",
    "- **Offer Special Discounts or Free Trials**  \n",
    "  Try offering limited-time deals or free trial memberships, especially during busy seasons or weekends when casual rider activity is high.\n",
    "\n",
    "- **Use Personalized Messaging**  \n",
    "  Tailor messages that speak directly to casual riders—highlighting how a membership could save them money or give them more convenience.\n",
    "\n",
    "- **Improve Services Based on Rider Needs**  \n",
    "  If casual riders prefer longer rides or use electric bikes more often, Cyclistic can consider improving these options to better meet their needs.\n",
    "\n",
    "By turning these insights into real-world actions, Cyclistic can not only boost its membership but also improve the overall experience for all users. This final phase brings everything together and ensures that the work done throughout the project leads to meaningful results for the company."
   ]
  },
  {
   "cell_type": "code",
   "execution_count": null,
   "id": "553edfe6-2c91-49e9-b9c9-83541b435789",
   "metadata": {},
   "outputs": [],
   "source": []
  }
 ],
 "metadata": {
  "kernelspec": {
   "display_name": "R",
   "language": "R",
   "name": "ir"
  },
  "language_info": {
   "codemirror_mode": "r",
   "file_extension": ".r",
   "mimetype": "text/x-r-source",
   "name": "R",
   "pygments_lexer": "r",
   "version": "4.4.2"
  }
 },
 "nbformat": 4,
 "nbformat_minor": 5
}
